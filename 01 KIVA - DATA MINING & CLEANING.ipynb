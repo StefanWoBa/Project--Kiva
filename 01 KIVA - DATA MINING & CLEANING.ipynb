{
 "cells": [
  {
   "cell_type": "markdown",
   "metadata": {},
   "source": [
    "# 01 KIVA - DATA MINING & CLEANING"
   ]
  },
  {
   "cell_type": "code",
   "execution_count": 2,
   "metadata": {},
   "outputs": [],
   "source": [
    "import pandas as pd\n",
    "import numpy as np"
   ]
  },
  {
   "cell_type": "code",
   "execution_count": 3,
   "metadata": {},
   "outputs": [],
   "source": [
    "pd.set_option('display.max_columns', None) #to see all columns"
   ]
  },
  {
   "cell_type": "markdown",
   "metadata": {},
   "source": [
    "## LOAD DATA"
   ]
  },
  {
   "cell_type": "code",
   "execution_count": 4,
   "metadata": {},
   "outputs": [],
   "source": [
    "df = pd.read_csv('kiva_loans.csv')\n",
    "df_mpi = pd.read_csv('kiva_mpi_region_locations.csv')\n",
    "df_lt = pd.read_csv('loan_theme_ids.csv') #no region given, maybe connect with partner id\n",
    "df_ltbyreg = pd.read_csv('loan_themes_by_region.csv')"
   ]
  },
  {
   "cell_type": "markdown",
   "metadata": {},
   "source": [
    "#### RENAME COLUMNS FOR CONSISTENCY"
   ]
  },
  {
   "cell_type": "code",
   "execution_count": 5,
   "metadata": {},
   "outputs": [
    {
     "data": {
      "text/plain": [
       "Index(['partner_id', 'field_partner_name', 'sector', 'loan_theme_id',\n",
       "       'loan_theme_type', 'country', 'forkiva', 'region', 'geocode_old', 'iso',\n",
       "       'number', 'amount', 'locationname', 'geocode', 'names', 'geo', 'lat',\n",
       "       'lon', 'mpi_region', 'mpi_geo', 'rural_pct'],\n",
       "      dtype='object')"
      ]
     },
     "execution_count": 5,
     "metadata": {},
     "output_type": "execute_result"
    }
   ],
   "source": [
    "df_ltbyreg.columns = df_ltbyreg.columns.str.lower().str.replace(' ', '_')\n",
    "df_ltbyreg.columns"
   ]
  },
  {
   "cell_type": "code",
   "execution_count": 6,
   "metadata": {},
   "outputs": [
    {
     "data": {
      "text/plain": [
       "Index(['locationname', 'iso', 'country', 'region', 'world_region', 'mpi',\n",
       "       'geo', 'lat', 'lon'],\n",
       "      dtype='object')"
      ]
     },
     "execution_count": 6,
     "metadata": {},
     "output_type": "execute_result"
    }
   ],
   "source": [
    "df_mpi.columns = df_mpi.columns.str.lower()\n",
    "df_mpi.columns"
   ]
  },
  {
   "cell_type": "markdown",
   "metadata": {},
   "source": [
    "#### SELECT EAST AFRICAN COUNTRIES"
   ]
  },
  {
   "cell_type": "markdown",
   "metadata": {},
   "source": [
    "* TZ = Tanzania\n",
    "* KE = Kenya\n",
    "* UG = Uganda\n",
    "* RW = Rwanda"
   ]
  },
  {
   "cell_type": "code",
   "execution_count": 7,
   "metadata": {},
   "outputs": [
    {
     "data": {
      "text/html": [
       "<div>\n",
       "<style scoped>\n",
       "    .dataframe tbody tr th:only-of-type {\n",
       "        vertical-align: middle;\n",
       "    }\n",
       "\n",
       "    .dataframe tbody tr th {\n",
       "        vertical-align: top;\n",
       "    }\n",
       "\n",
       "    .dataframe thead th {\n",
       "        text-align: right;\n",
       "    }\n",
       "</style>\n",
       "<table border=\"1\" class=\"dataframe\">\n",
       "  <thead>\n",
       "    <tr style=\"text-align: right;\">\n",
       "      <th></th>\n",
       "      <th>id</th>\n",
       "      <th>funded_amount</th>\n",
       "      <th>loan_amount</th>\n",
       "      <th>activity</th>\n",
       "      <th>sector</th>\n",
       "      <th>use</th>\n",
       "      <th>country_code</th>\n",
       "      <th>country</th>\n",
       "      <th>region</th>\n",
       "      <th>currency</th>\n",
       "      <th>partner_id</th>\n",
       "      <th>posted_time</th>\n",
       "      <th>disbursed_time</th>\n",
       "      <th>funded_time</th>\n",
       "      <th>term_in_months</th>\n",
       "      <th>lender_count</th>\n",
       "      <th>tags</th>\n",
       "      <th>borrower_genders</th>\n",
       "      <th>repayment_interval</th>\n",
       "      <th>date</th>\n",
       "    </tr>\n",
       "  </thead>\n",
       "  <tbody>\n",
       "    <tr>\n",
       "      <th>5</th>\n",
       "      <td>1080148</td>\n",
       "      <td>250.0</td>\n",
       "      <td>250.0</td>\n",
       "      <td>Services</td>\n",
       "      <td>Services</td>\n",
       "      <td>purchase leather for my business using ksh 20000.</td>\n",
       "      <td>KE</td>\n",
       "      <td>Kenya</td>\n",
       "      <td>NaN</td>\n",
       "      <td>KES</td>\n",
       "      <td>NaN</td>\n",
       "      <td>2014-01-01 10:06:19+00:00</td>\n",
       "      <td>2014-01-30 01:42:48+00:00</td>\n",
       "      <td>2014-01-29 14:14:57+00:00</td>\n",
       "      <td>4.0</td>\n",
       "      <td>6</td>\n",
       "      <td>NaN</td>\n",
       "      <td>female</td>\n",
       "      <td>irregular</td>\n",
       "      <td>2014-01-01</td>\n",
       "    </tr>\n",
       "  </tbody>\n",
       "</table>\n",
       "</div>"
      ],
      "text/plain": [
       "        id  funded_amount  loan_amount  activity    sector  \\\n",
       "5  1080148          250.0        250.0  Services  Services   \n",
       "\n",
       "                                                 use country_code country  \\\n",
       "5  purchase leather for my business using ksh 20000.           KE   Kenya   \n",
       "\n",
       "  region currency  partner_id                posted_time  \\\n",
       "5    NaN      KES         NaN  2014-01-01 10:06:19+00:00   \n",
       "\n",
       "              disbursed_time                funded_time  term_in_months  \\\n",
       "5  2014-01-30 01:42:48+00:00  2014-01-29 14:14:57+00:00             4.0   \n",
       "\n",
       "   lender_count tags borrower_genders repayment_interval        date  \n",
       "5             6  NaN           female          irregular  2014-01-01  "
      ]
     },
     "execution_count": 7,
     "metadata": {},
     "output_type": "execute_result"
    }
   ],
   "source": [
    "####Loan Dataset:\n",
    "EAC = df[(df.country_code=='TZ') | (df.country_code=='KE')| (df.country_code=='UG')| (df.country_code=='RW')]\n",
    "EAC.head(1)"
   ]
  },
  {
   "cell_type": "code",
   "execution_count": 8,
   "metadata": {},
   "outputs": [
    {
     "data": {
      "text/html": [
       "<div>\n",
       "<style scoped>\n",
       "    .dataframe tbody tr th:only-of-type {\n",
       "        vertical-align: middle;\n",
       "    }\n",
       "\n",
       "    .dataframe tbody tr th {\n",
       "        vertical-align: top;\n",
       "    }\n",
       "\n",
       "    .dataframe thead th {\n",
       "        text-align: right;\n",
       "    }\n",
       "</style>\n",
       "<table border=\"1\" class=\"dataframe\">\n",
       "  <thead>\n",
       "    <tr style=\"text-align: right;\">\n",
       "      <th></th>\n",
       "      <th>partner_id</th>\n",
       "      <th>field_partner_name</th>\n",
       "      <th>sector</th>\n",
       "      <th>loan_theme_id</th>\n",
       "      <th>loan_theme_type</th>\n",
       "      <th>country</th>\n",
       "      <th>forkiva</th>\n",
       "      <th>region</th>\n",
       "      <th>geocode_old</th>\n",
       "      <th>iso</th>\n",
       "      <th>number</th>\n",
       "      <th>amount</th>\n",
       "      <th>locationname</th>\n",
       "      <th>geocode</th>\n",
       "      <th>names</th>\n",
       "      <th>geo</th>\n",
       "      <th>lat</th>\n",
       "      <th>lon</th>\n",
       "      <th>mpi_region</th>\n",
       "      <th>mpi_geo</th>\n",
       "      <th>rural_pct</th>\n",
       "    </tr>\n",
       "  </thead>\n",
       "  <tbody>\n",
       "    <tr>\n",
       "      <th>1270</th>\n",
       "      <td>65</td>\n",
       "      <td>BRAC Uganda</td>\n",
       "      <td>General Financial Inclusion</td>\n",
       "      <td>a1050000000wezZ</td>\n",
       "      <td>General</td>\n",
       "      <td>Uganda</td>\n",
       "      <td>No</td>\n",
       "      <td>Abaita Ababiri</td>\n",
       "      <td>NaN</td>\n",
       "      <td>UGA</td>\n",
       "      <td>1</td>\n",
       "      <td>1125</td>\n",
       "      <td>Abaita Ababiri, Uganda</td>\n",
       "      <td>[(0.09353349999999999, 32.4990828)]</td>\n",
       "      <td>Abayita Ababiri; Lyamutundwe; Wakiso; Central ...</td>\n",
       "      <td>(0.09353349999999999, 32.4990828)</td>\n",
       "      <td>0.093534</td>\n",
       "      <td>32.499083</td>\n",
       "      <td>West Nile, Uganda</td>\n",
       "      <td>(0.3157239, 32.575568)</td>\n",
       "      <td>70.0</td>\n",
       "    </tr>\n",
       "  </tbody>\n",
       "</table>\n",
       "</div>"
      ],
      "text/plain": [
       "      partner_id field_partner_name                       sector  \\\n",
       "1270          65        BRAC Uganda  General Financial Inclusion   \n",
       "\n",
       "        loan_theme_id loan_theme_type country forkiva          region  \\\n",
       "1270  a1050000000wezZ         General  Uganda      No  Abaita Ababiri   \n",
       "\n",
       "     geocode_old  iso  number  amount            locationname  \\\n",
       "1270         NaN  UGA       1    1125  Abaita Ababiri, Uganda   \n",
       "\n",
       "                                  geocode  \\\n",
       "1270  [(0.09353349999999999, 32.4990828)]   \n",
       "\n",
       "                                                  names  \\\n",
       "1270  Abayita Ababiri; Lyamutundwe; Wakiso; Central ...   \n",
       "\n",
       "                                    geo       lat        lon  \\\n",
       "1270  (0.09353349999999999, 32.4990828)  0.093534  32.499083   \n",
       "\n",
       "             mpi_region                 mpi_geo  rural_pct  \n",
       "1270  West Nile, Uganda  (0.3157239, 32.575568)       70.0  "
      ]
     },
     "execution_count": 8,
     "metadata": {},
     "output_type": "execute_result"
    }
   ],
   "source": [
    "####Region/Geocode Dataset:\n",
    "EAC_reg = df_ltbyreg[(df_ltbyreg.iso=='TZA') | (df_ltbyreg.iso=='KEN')| (df_ltbyreg.iso=='UGA')| (df_ltbyreg.iso=='RWA')]\n",
    "EAC_reg.head(1)"
   ]
  },
  {
   "cell_type": "code",
   "execution_count": 9,
   "metadata": {},
   "outputs": [
    {
     "data": {
      "text/plain": [
       "VisionFund Kenya                                                      157\n",
       "SMEP Microfinance Bank                                                115\n",
       "UGAFODE Microfinance                                                  103\n",
       "Kenya ECLOF                                                           101\n",
       "Juhudi Kilimo                                                          90\n",
       "BRAC Uganda                                                            77\n",
       "Impact Carbon                                                          64\n",
       "Urwego Opportunity Bank                                                48\n",
       "HOFOKAM                                                                38\n",
       "Yehu Microfinance Trust                                                27\n",
       "Junior Achievement Kenya                                               22\n",
       "VisionFund Rwanda                                                      20\n",
       "Burn Manufacturing                                                     19\n",
       "Jibu                                                                   16\n",
       "Camfed Tanzania                                                        15\n",
       "One Acre Fund                                                          14\n",
       "African Entrepreneur Collective (AEC)                                  12\n",
       "Sanergy                                                                12\n",
       "Nuru Energy                                                            11\n",
       "Hand in Hand Eastern Africa                                            10\n",
       "UpEnergy                                                                9\n",
       "Tujijenge Tanzania                                                      8\n",
       "Asante Kenya Foundation                                                 7\n",
       "African Solar Rise                                                      5\n",
       "One Degree Solar                                                        3\n",
       "Housing Finance Foundation                                              2\n",
       "PowerGen Renewable Energy                                               2\n",
       "Moringa School                                                          2\n",
       "Fledge                                                                  2\n",
       "Kepler                                                                  2\n",
       "N/A, direct to EcoZoom                                                  1\n",
       "N/A, direct to Sikubora                                                 1\n",
       "N/A direct to BioLite Inc.                                              1\n",
       "N/A, direct to Mavuno Harvest                                           1\n",
       "N/A, direct to Brent Oils                                               1\n",
       "Inyenyeri                                                               1\n",
       "N/A, direct to ICT4D                                                    1\n",
       "N/A, direct to Eco Fuels Kenya                                          1\n",
       "Unreasonable Institute                                                  1\n",
       "Takamoto Biogas                                                         1\n",
       "iSmart Kenya                                                            1\n",
       "N/A, direct to Vava Coffee                                              1\n",
       "Micro Credit for Development and Transformation SACCO (MCDT SACCO)      1\n",
       "Digital Divide Data (DDD)                                               1\n",
       "N/A, direct to SCODE                                                    1\n",
       "N/A, direct to ACTT                                                     1\n",
       "N/A, direct to Manjano                                                  1\n",
       "N/A, direct to Jakana Foods                                             1\n",
       "N/A, direct to All Across Africa                                        1\n",
       "Yunus Social Business (YSB)                                             1\n",
       "N/A, direct to Sanergy                                                  1\n",
       "Strathmore University                                                   1\n",
       "RISE Tanzania                                                           1\n",
       "N/A, direct to Simusolar                                                1\n",
       "N/A, direct to AKM Glitters                                             1\n",
       "Youth Initiative for Community Empowerment                              1\n",
       "N/A, direct to Moko Furniture (Watervale Investments)                   1\n",
       "N/A, direct to LLK                                                      1\n",
       "The Alliance for Artisan Enterprise at The Aspen Institute              1\n",
       "N/A, direct to Pawame                                                   1\n",
       "Name: field_partner_name, dtype: int64"
      ]
     },
     "execution_count": 9,
     "metadata": {},
     "output_type": "execute_result"
    }
   ],
   "source": [
    "EAC_reg.field_partner_name.value_counts()"
   ]
  },
  {
   "cell_type": "code",
   "execution_count": 10,
   "metadata": {},
   "outputs": [
    {
     "data": {
      "text/html": [
       "<div>\n",
       "<style scoped>\n",
       "    .dataframe tbody tr th:only-of-type {\n",
       "        vertical-align: middle;\n",
       "    }\n",
       "\n",
       "    .dataframe tbody tr th {\n",
       "        vertical-align: top;\n",
       "    }\n",
       "\n",
       "    .dataframe thead th {\n",
       "        text-align: right;\n",
       "    }\n",
       "</style>\n",
       "<table border=\"1\" class=\"dataframe\">\n",
       "  <thead>\n",
       "    <tr style=\"text-align: right;\">\n",
       "      <th></th>\n",
       "      <th>locationname</th>\n",
       "      <th>iso</th>\n",
       "      <th>country</th>\n",
       "      <th>region</th>\n",
       "      <th>world_region</th>\n",
       "      <th>mpi</th>\n",
       "      <th>geo</th>\n",
       "      <th>lat</th>\n",
       "      <th>lon</th>\n",
       "    </tr>\n",
       "  </thead>\n",
       "  <tbody>\n",
       "    <tr>\n",
       "      <th>450</th>\n",
       "      <td>Central, Kenya</td>\n",
       "      <td>KEN</td>\n",
       "      <td>Kenya</td>\n",
       "      <td>Central</td>\n",
       "      <td>Sub-Saharan Africa</td>\n",
       "      <td>0.075</td>\n",
       "      <td>(-4.0627412, 39.6771481)</td>\n",
       "      <td>-4.062741</td>\n",
       "      <td>39.677148</td>\n",
       "    </tr>\n",
       "    <tr>\n",
       "      <th>451</th>\n",
       "      <td>Coast, Kenya</td>\n",
       "      <td>KEN</td>\n",
       "      <td>Kenya</td>\n",
       "      <td>Coast</td>\n",
       "      <td>Sub-Saharan Africa</td>\n",
       "      <td>0.242</td>\n",
       "      <td>(-3.2096898, 40.1169399)</td>\n",
       "      <td>-3.209690</td>\n",
       "      <td>40.116940</td>\n",
       "    </tr>\n",
       "    <tr>\n",
       "      <th>452</th>\n",
       "      <td>Eastern, Kenya</td>\n",
       "      <td>KEN</td>\n",
       "      <td>Kenya</td>\n",
       "      <td>Eastern</td>\n",
       "      <td>Sub-Saharan Africa</td>\n",
       "      <td>0.190</td>\n",
       "      <td>(0.7137256, 35.517938)</td>\n",
       "      <td>0.713726</td>\n",
       "      <td>35.517938</td>\n",
       "    </tr>\n",
       "    <tr>\n",
       "      <th>453</th>\n",
       "      <td>Nairobi, Kenya</td>\n",
       "      <td>KEN</td>\n",
       "      <td>Kenya</td>\n",
       "      <td>Nairobi</td>\n",
       "      <td>Sub-Saharan Africa</td>\n",
       "      <td>0.020</td>\n",
       "      <td>(-1.2920659, 36.8219462)</td>\n",
       "      <td>-1.292066</td>\n",
       "      <td>36.821946</td>\n",
       "    </tr>\n",
       "    <tr>\n",
       "      <th>454</th>\n",
       "      <td>North Eastern, Kenya</td>\n",
       "      <td>KEN</td>\n",
       "      <td>Kenya</td>\n",
       "      <td>North Eastern</td>\n",
       "      <td>Sub-Saharan Africa</td>\n",
       "      <td>0.509</td>\n",
       "      <td>(-0.0190061, 37.6480812)</td>\n",
       "      <td>-0.019006</td>\n",
       "      <td>37.648081</td>\n",
       "    </tr>\n",
       "  </tbody>\n",
       "</table>\n",
       "</div>"
      ],
      "text/plain": [
       "             locationname  iso country         region        world_region  \\\n",
       "450        Central, Kenya  KEN   Kenya        Central  Sub-Saharan Africa   \n",
       "451          Coast, Kenya  KEN   Kenya          Coast  Sub-Saharan Africa   \n",
       "452        Eastern, Kenya  KEN   Kenya        Eastern  Sub-Saharan Africa   \n",
       "453        Nairobi, Kenya  KEN   Kenya        Nairobi  Sub-Saharan Africa   \n",
       "454  North Eastern, Kenya  KEN   Kenya  North Eastern  Sub-Saharan Africa   \n",
       "\n",
       "       mpi                       geo       lat        lon  \n",
       "450  0.075  (-4.0627412, 39.6771481) -4.062741  39.677148  \n",
       "451  0.242  (-3.2096898, 40.1169399) -3.209690  40.116940  \n",
       "452  0.190    (0.7137256, 35.517938)  0.713726  35.517938  \n",
       "453  0.020  (-1.2920659, 36.8219462) -1.292066  36.821946  \n",
       "454  0.509  (-0.0190061, 37.6480812) -0.019006  37.648081  "
      ]
     },
     "execution_count": 10,
     "metadata": {},
     "output_type": "execute_result"
    }
   ],
   "source": [
    "####MPI (Target variable)\n",
    "EAC_mpi = df_mpi[(df_mpi.iso=='TZA') | (df_mpi.iso=='KEN')| (df_mpi.iso=='UGA')| (df_mpi.iso=='RWA')]\n",
    "EAC_mpi.head()"
   ]
  },
  {
   "cell_type": "markdown",
   "metadata": {},
   "source": [
    "#### Check for missing values in the loan dataset"
   ]
  },
  {
   "cell_type": "code",
   "execution_count": 11,
   "metadata": {},
   "outputs": [
    {
     "name": "stdout",
     "output_type": "stream",
     "text": [
      "tags                  31205\n",
      "region                15228\n",
      "funded_time            8654\n",
      "partner_id             8372\n",
      "use                    1066\n",
      "borrower_genders       1064\n",
      "disbursed_time          381\n",
      "date                      0\n",
      "country_code              0\n",
      "funded_amount             0\n",
      "loan_amount               0\n",
      "activity                  0\n",
      "sector                    0\n",
      "currency                  0\n",
      "country                   0\n",
      "repayment_interval        0\n",
      "posted_time               0\n",
      "term_in_months            0\n",
      "lender_count              0\n",
      "id                        0\n",
      "dtype: int64\n"
     ]
    },
    {
     "data": {
      "image/png": "[encoded data removed]",
      "text/plain": [
       "<Figure size 1800x720 with 2 Axes>"
      ]
     },
     "metadata": {
      "needs_background": "light"
     },
     "output_type": "display_data"
    }
   ],
   "source": [
    "import missingno\n",
    "# visualize all missings in plot\n",
    "missingno.matrix(EAC)\n",
    "\n",
    "# give out missings as list\n",
    "missing_data = EAC.isnull().sum().sort_values(ascending=False)\n",
    "print(missing_data)"
   ]
  },
  {
   "cell_type": "code",
   "execution_count": 12,
   "metadata": {},
   "outputs": [
    {
     "data": {
      "text/plain": [
       "(93152, 20)"
      ]
     },
     "execution_count": 12,
     "metadata": {},
     "output_type": "execute_result"
    }
   ],
   "source": [
    "######Region has a lot of missing values -> 1st approach: delete all of them\n",
    "EAC_dropna = EAC.copy()\n",
    "EAC_dropna.dropna(subset = ['region'], inplace=True)\n",
    "EAC_dropna.shape"
   ]
  },
  {
   "cell_type": "code",
   "execution_count": 13,
   "metadata": {},
   "outputs": [
    {
     "data": {
      "image/png": "[encoded data removed]",
      "text/plain": [
       "<Figure size 1800x720 with 2 Axes>"
      ]
     },
     "metadata": {
      "needs_background": "light"
     },
     "output_type": "display_data"
    }
   ],
   "source": [
    "###Check of the dropping process:\n",
    "missingno.matrix(EAC_dropna)\n",
    "missing_data = EAC_dropna.isnull().sum().sort_values(ascending=False)"
   ]
  },
  {
   "cell_type": "code",
   "execution_count": 14,
   "metadata": {},
   "outputs": [],
   "source": [
    "####MERGING PROCESS####"
   ]
  },
  {
   "cell_type": "code",
   "execution_count": 15,
   "metadata": {},
   "outputs": [
    {
     "data": {
      "text/plain": [
       "Nanyuki                    1\n",
       "Kibwezi                    1\n",
       "Koyango Manyatta-kisumu    1\n",
       "Kalile ;Tala               1\n",
       "Weema                      1\n",
       "Byumba                     1\n",
       "Maua                       1\n",
       "Nyandarua South            1\n",
       "Siongiroi                  1\n",
       "NGENDA                     1\n",
       "Kasangati                  1\n",
       "Bushenyi                   1\n",
       "Furunzi;Malindi            1\n",
       "Nyeri                      1\n",
       "Kakamega                   1\n",
       "Kapsabet                   1\n",
       "Rufiji                     1\n",
       "Mikinduri                  1\n",
       "Kwa Reuben, Nairobi.       1\n",
       "Ndejje                     1\n",
       "Kisekende                  1\n",
       "Mwamlai Mombasa            1\n",
       "Njeru                      1\n",
       "Kyela                      1\n",
       "Mbarara                    1\n",
       "Lelan                      1\n",
       "Lunga Lunga                1\n",
       "Kondele                    1\n",
       "Kyotera                    1\n",
       "Amuria                     1\n",
       "                          ..\n",
       "Jinja                      1\n",
       "Masaka                     1\n",
       "Kisumu                     1\n",
       "Lamu                       1\n",
       "Ongata-Rongai              1\n",
       "karatina                   1\n",
       "Lukaya                     1\n",
       "Bungoma South              1\n",
       "Nakuru West                1\n",
       "Colorado; Bamburi          1\n",
       "Changamwe                  1\n",
       "Nyandarua                  1\n",
       "Nyalenda;Kisumu            1\n",
       "Majengo mapya              1\n",
       "Kilfi                      1\n",
       "Gatsibo                    1\n",
       "AHERO                      1\n",
       "Zombo                      1\n",
       "Kilifi                     1\n",
       "Sembabule                  1\n",
       "Nakaseke                   1\n",
       "Kisii                      1\n",
       "Magogoni, Mombasa          1\n",
       "Kangulumira                1\n",
       "Mathare North Area 4       1\n",
       "Thika                      1\n",
       "KARONGI                    1\n",
       "Nyamasheke                 1\n",
       "Tezo, Kilifi               1\n",
       "Changamwe, Mombasa         1\n",
       "Name: region, Length: 453, dtype: int64"
      ]
     },
     "execution_count": 15,
     "metadata": {},
     "output_type": "execute_result"
    }
   ],
   "source": [
    "EAC_reg_drop = EAC_reg.drop_duplicates('region')\n",
    "EAC_reg_drop.region.value_counts()"
   ]
  },
  {
   "cell_type": "code",
   "execution_count": 16,
   "metadata": {},
   "outputs": [
    {
     "name": "stdout",
     "output_type": "stream",
     "text": [
      "geocode_old           729\n",
      "rural_pct             262\n",
      "lon                    28\n",
      "lat                    28\n",
      "names                  28\n",
      "geocode                28\n",
      "mpi_geo                28\n",
      "forkiva                 0\n",
      "field_partner_name      0\n",
      "sector                  0\n",
      "loan_theme_id           0\n",
      "loan_theme_type         0\n",
      "country                 0\n",
      "number                  0\n",
      "region                  0\n",
      "iso                     0\n",
      "amount                  0\n",
      "locationname            0\n",
      "geo                     0\n",
      "mpi_region              0\n",
      "partner_id              0\n",
      "dtype: int64\n"
     ]
    },
    {
     "data": {
      "image/png": "[encoded data removed]",
      "text/plain": [
       "<Figure size 1800x720 with 2 Axes>"
      ]
     },
     "metadata": {
      "needs_background": "light"
     },
     "output_type": "display_data"
    }
   ],
   "source": [
    "###Check for missing values in the region/geocode dataset:\n",
    "missingno.matrix(EAC_reg)\n",
    "missing_data = EAC_reg.isnull().sum().sort_values(ascending=False)\n",
    "print(missing_data)"
   ]
  },
  {
   "cell_type": "markdown",
   "metadata": {},
   "source": [
    "Missing values in the region/geocode dataframe:\n",
    " * it looks like several regions are missing the mpi_geocode -> further investigation"
   ]
  },
  {
   "cell_type": "code",
   "execution_count": 17,
   "metadata": {},
   "outputs": [
    {
     "data": {
      "text/plain": [
       "(93152, 24)"
      ]
     },
     "execution_count": 17,
     "metadata": {},
     "output_type": "execute_result"
    }
   ],
   "source": [
    "####MERGING PROCESS####\n",
    "#First: Add geocode (regional level) to the individual borrowers\n",
    "#merging 2 dataframes together by region to get the geodata on the core dataset:\n",
    "#this will produce duplicates which have to be deleted after the merging is done\n",
    "\n",
    "EAC_core = pd.merge(EAC_dropna, \n",
    "                EAC_reg_drop[['region','geo', 'lat', 'lon', 'mpi_geo']],\n",
    "                on='region',\n",
    "                how='left',\n",
    "                validate='m:1',\n",
    "               )#.drop_duplicates() #dropping the duplicates\n",
    "EAC_core.shape"
   ]
  },
  {
   "cell_type": "code",
   "execution_count": 18,
   "metadata": {},
   "outputs": [
    {
     "data": {
      "text/plain": [
       "(93152, 26)"
      ]
     },
     "execution_count": 18,
     "metadata": {},
     "output_type": "execute_result"
    }
   ],
   "source": [
    "###2nd part: Add mpi according to the corresponding geocode for mpi\n",
    "EAC_core_mpi = pd.merge(EAC_core, \n",
    "                EAC_mpi[['geo', 'mpi']],\n",
    "                how='left',\n",
    "                left_on='mpi_geo',\n",
    "                right_on='geo',\n",
    "                validate='m:1' #many to one: check if in the right dataset keys are unique\n",
    "               ).drop_duplicates() #dropping the duplicates\n",
    "EAC_core_mpi.shape"
   ]
  },
  {
   "cell_type": "markdown",
   "metadata": {},
   "source": [
    "### MPI and regions"
   ]
  },
  {
   "cell_type": "code",
   "execution_count": 19,
   "metadata": {},
   "outputs": [
    {
     "data": {
      "text/plain": [
       "(-0.115003, 34.851379)              23046\n",
       "(0.7137256, 35.517938)              11978\n",
       "(0.2580521, 30.5279096)             11280\n",
       "(-4.0627412, 39.6771481)            10241\n",
       "(-1.2849963, 36.8272273)             9411\n",
       "(-0.0190061, 37.6480812)             7101\n",
       "(-6.135729500000001, 39.3621196)     4045\n",
       "(0.3475964, 32.5825197)              2534\n",
       "(1.373333, 32.290275)                2363\n",
       "(-1.2920659, 36.8219462)             2022\n",
       "(-3.2096898, 40.1169399)             1129\n",
       "(0.2540775, 31.99280779999999)       1074\n",
       "(0.3157239, 32.575568)               1058\n",
       "(0.3729261, 32.6357573)               889\n",
       "(1.2692186, 33.438353)                635\n",
       "(-1.9705786, 30.1044288)              430\n",
       "(0.3215308, 32.5862002)               426\n",
       "(-6.369028, 34.888822)                380\n",
       "(2.8780034, 32.7181375)               139\n",
       "(-1.940278, 29.873888)                139\n",
       "(-2.07649, 29.3250347)                 13\n",
       "(-1.5009963, 29.6384954)               12\n",
       "(2.8308738, 34.1531947)                 1\n",
       "Name: mpi_geo, dtype: int64"
      ]
     },
     "execution_count": 19,
     "metadata": {},
     "output_type": "execute_result"
    }
   ],
   "source": [
    "EAC_core_mpi.mpi_geo.value_counts()"
   ]
  },
  {
   "cell_type": "markdown",
   "metadata": {},
   "source": [
    "**Caution:** MPI is only available for 23 regions across the east-african countries under investigation. \n",
    "\n",
    "**-----------------------------------------------------------------------------------**"
   ]
  },
  {
   "cell_type": "code",
   "execution_count": 20,
   "metadata": {},
   "outputs": [
    {
     "data": {
      "text/plain": [
       "tags                  21029\n",
       "funded_time            7836\n",
       "mpi                    2806\n",
       "mpi_geo                2806\n",
       "lon                    2806\n",
       "lat                    2806\n",
       "geo_y                  2806\n",
       "geo_x                  2554\n",
       "use                       1\n",
       "region                    0\n",
       "funded_amount             0\n",
       "loan_amount               0\n",
       "activity                  0\n",
       "sector                    0\n",
       "country_code              0\n",
       "country                   0\n",
       "disbursed_time            0\n",
       "currency                  0\n",
       "partner_id                0\n",
       "posted_time               0\n",
       "term_in_months            0\n",
       "lender_count              0\n",
       "borrower_genders          0\n",
       "repayment_interval        0\n",
       "date                      0\n",
       "id                        0\n",
       "dtype: int64"
      ]
     },
     "execution_count": 20,
     "metadata": {},
     "output_type": "execute_result"
    },
    {
     "data": {
      "image/png": "[encoded data removed]",
      "text/plain": [
       "<Figure size 1800x720 with 2 Axes>"
      ]
     },
     "metadata": {
      "needs_background": "light"
     },
     "output_type": "display_data"
    }
   ],
   "source": [
    "missingno.matrix(EAC_core_mpi)\n",
    "missing_values=EAC_core_mpi.isnull().sum().sort_values(ascending=False) \n",
    "missing_values"
   ]
  },
  {
   "cell_type": "markdown",
   "metadata": {},
   "source": [
    "Missing values regarding the target variable MPI:\n",
    "   * overall: 2806\n",
    "   * as a percentage of the whole dataset: 3%\n",
    "   * deleting seems to be a good option"
   ]
  },
  {
   "cell_type": "code",
   "execution_count": 21,
   "metadata": {},
   "outputs": [],
   "source": [
    "EAC_core_mpi.dropna(subset = ['mpi'], inplace=True)"
   ]
  },
  {
   "cell_type": "code",
   "execution_count": 22,
   "metadata": {},
   "outputs": [
    {
     "data": {
      "text/plain": [
       "<matplotlib.axes._subplots.AxesSubplot at 0x11d29acc0>"
      ]
     },
     "execution_count": 22,
     "metadata": {},
     "output_type": "execute_result"
    },
    {
     "data": {
      "image/png": "[encoded data removed]",
      "text/plain": [
       "<Figure size 1800x720 with 2 Axes>"
      ]
     },
     "metadata": {
      "needs_background": "light"
     },
     "output_type": "display_data"
    }
   ],
   "source": [
    "#### Check the deleting process:\n",
    "missingno.matrix(EAC_core_mpi)"
   ]
  },
  {
   "cell_type": "code",
   "execution_count": 23,
   "metadata": {},
   "outputs": [
    {
     "data": {
      "text/plain": [
       "(90346, 26)"
      ]
     },
     "execution_count": 23,
     "metadata": {},
     "output_type": "execute_result"
    }
   ],
   "source": [
    "EAC_core_mpi.shape"
   ]
  },
  {
   "cell_type": "code",
   "execution_count": 24,
   "metadata": {},
   "outputs": [
    {
     "data": {
      "text/plain": [
       "Index(['id', 'funded_amount', 'loan_amount', 'activity', 'sector', 'use',\n",
       "       'country_code', 'country', 'region', 'currency', 'partner_id',\n",
       "       'posted_time', 'disbursed_time', 'funded_time', 'term_in_months',\n",
       "       'lender_count', 'tags', 'borrower_genders', 'repayment_interval',\n",
       "       'date', 'geo_x', 'lat', 'lon', 'mpi_geo', 'geo_y', 'mpi'],\n",
       "      dtype='object')"
      ]
     },
     "execution_count": 24,
     "metadata": {},
     "output_type": "execute_result"
    }
   ],
   "source": [
    "EAC_core_mpi.columns"
   ]
  },
  {
   "cell_type": "code",
   "execution_count": 25,
   "metadata": {},
   "outputs": [
    {
     "data": {
      "text/plain": [
       "(90346, 23)"
      ]
     },
     "execution_count": 25,
     "metadata": {},
     "output_type": "execute_result"
    }
   ],
   "source": [
    "####Handling missing values -> Drop\n",
    "EAC_core_mpi = EAC_core_mpi.drop(['tags', 'funded_time','use'], axis=1)\n",
    "EAC_core_mpi.shape"
   ]
  },
  {
   "cell_type": "code",
   "execution_count": 26,
   "metadata": {},
   "outputs": [
    {
     "data": {
      "text/html": [
       "<div>\n",
       "<style scoped>\n",
       "    .dataframe tbody tr th:only-of-type {\n",
       "        vertical-align: middle;\n",
       "    }\n",
       "\n",
       "    .dataframe tbody tr th {\n",
       "        vertical-align: top;\n",
       "    }\n",
       "\n",
       "    .dataframe thead th {\n",
       "        text-align: right;\n",
       "    }\n",
       "</style>\n",
       "<table border=\"1\" class=\"dataframe\">\n",
       "  <thead>\n",
       "    <tr style=\"text-align: right;\">\n",
       "      <th></th>\n",
       "      <th>id</th>\n",
       "      <th>funded_amount</th>\n",
       "      <th>loan_amount</th>\n",
       "      <th>activity</th>\n",
       "      <th>sector</th>\n",
       "      <th>country_code</th>\n",
       "      <th>country</th>\n",
       "      <th>region</th>\n",
       "      <th>currency</th>\n",
       "      <th>partner_id</th>\n",
       "      <th>posted_time</th>\n",
       "      <th>disbursed_time</th>\n",
       "      <th>term_in_months</th>\n",
       "      <th>lender_count</th>\n",
       "      <th>borrower_genders</th>\n",
       "      <th>repayment_interval</th>\n",
       "      <th>date</th>\n",
       "      <th>geo_x</th>\n",
       "      <th>lat</th>\n",
       "      <th>lon</th>\n",
       "      <th>mpi_geo</th>\n",
       "      <th>geo_y</th>\n",
       "      <th>mpi</th>\n",
       "    </tr>\n",
       "  </thead>\n",
       "  <tbody>\n",
       "    <tr>\n",
       "      <th>0</th>\n",
       "      <td>653185</td>\n",
       "      <td>250.0</td>\n",
       "      <td>250.0</td>\n",
       "      <td>Fruits &amp; Vegetables</td>\n",
       "      <td>Food</td>\n",
       "      <td>KE</td>\n",
       "      <td>Kenya</td>\n",
       "      <td>Voi</td>\n",
       "      <td>KES</td>\n",
       "      <td>164.0</td>\n",
       "      <td>2014-01-02 06:59:33+00:00</td>\n",
       "      <td>2013-12-12 08:00:00+00:00</td>\n",
       "      <td>13.0</td>\n",
       "      <td>7</td>\n",
       "      <td>female</td>\n",
       "      <td>irregular</td>\n",
       "      <td>2014-01-02</td>\n",
       "      <td>(-3.3973104, 38.5559336)</td>\n",
       "      <td>-3.39731</td>\n",
       "      <td>38.555934</td>\n",
       "      <td>(-4.0627412, 39.6771481)</td>\n",
       "      <td>(-4.0627412, 39.6771481)</td>\n",
       "      <td>0.075</td>\n",
       "    </tr>\n",
       "  </tbody>\n",
       "</table>\n",
       "</div>"
      ],
      "text/plain": [
       "       id  funded_amount  loan_amount             activity sector  \\\n",
       "0  653185          250.0        250.0  Fruits & Vegetables   Food   \n",
       "\n",
       "  country_code country region currency  partner_id                posted_time  \\\n",
       "0           KE   Kenya    Voi      KES       164.0  2014-01-02 06:59:33+00:00   \n",
       "\n",
       "              disbursed_time  term_in_months  lender_count borrower_genders  \\\n",
       "0  2013-12-12 08:00:00+00:00            13.0             7           female   \n",
       "\n",
       "  repayment_interval        date                     geo_x      lat  \\\n",
       "0          irregular  2014-01-02  (-3.3973104, 38.5559336) -3.39731   \n",
       "\n",
       "         lon                   mpi_geo                     geo_y    mpi  \n",
       "0  38.555934  (-4.0627412, 39.6771481)  (-4.0627412, 39.6771481)  0.075  "
      ]
     },
     "execution_count": 26,
     "metadata": {},
     "output_type": "execute_result"
    }
   ],
   "source": [
    "EAC_core_mpi.head(1)"
   ]
  },
  {
   "cell_type": "markdown",
   "metadata": {},
   "source": [
    "**-----------------------------------------------------------------------------------------------------**"
   ]
  },
  {
   "cell_type": "markdown",
   "metadata": {},
   "source": [
    "#### Convert funded amount and loan amount into USD"
   ]
  },
  {
   "cell_type": "markdown",
   "metadata": {},
   "source": [
    "##### Load in external data and do some preprocessing"
   ]
  },
  {
   "cell_type": "code",
   "execution_count": 27,
   "metadata": {},
   "outputs": [
    {
     "data": {
      "text/html": [
       "<div>\n",
       "<style scoped>\n",
       "    .dataframe tbody tr th:only-of-type {\n",
       "        vertical-align: middle;\n",
       "    }\n",
       "\n",
       "    .dataframe tbody tr th {\n",
       "        vertical-align: top;\n",
       "    }\n",
       "\n",
       "    .dataframe thead th {\n",
       "        text-align: right;\n",
       "    }\n",
       "</style>\n",
       "<table border=\"1\" class=\"dataframe\">\n",
       "  <thead>\n",
       "    <tr style=\"text-align: right;\">\n",
       "      <th></th>\n",
       "      <th>series_name</th>\n",
       "      <th>series_code</th>\n",
       "      <th>country_name</th>\n",
       "      <th>country_code</th>\n",
       "      <th>2014_[yr2014]</th>\n",
       "      <th>2015_[yr2015]</th>\n",
       "      <th>2016_[yr2016]</th>\n",
       "      <th>2017_[yr2017]</th>\n",
       "    </tr>\n",
       "  </thead>\n",
       "  <tbody>\n",
       "    <tr>\n",
       "      <th>0</th>\n",
       "      <td>Official exchange rate (LCU per US$, period av...</td>\n",
       "      <td>PA.NUS.FCRF</td>\n",
       "      <td>Kenya</td>\n",
       "      <td>KEN</td>\n",
       "      <td>87.922500</td>\n",
       "      <td>98.179167</td>\n",
       "      <td>101.504167</td>\n",
       "      <td>103.410446</td>\n",
       "    </tr>\n",
       "    <tr>\n",
       "      <th>1</th>\n",
       "      <td>Official exchange rate (LCU per US$, period av...</td>\n",
       "      <td>PA.NUS.FCRF</td>\n",
       "      <td>Uganda</td>\n",
       "      <td>UGA</td>\n",
       "      <td>2599.788201</td>\n",
       "      <td>3240.645420</td>\n",
       "      <td>3420.098007</td>\n",
       "      <td>3611.224458</td>\n",
       "    </tr>\n",
       "    <tr>\n",
       "      <th>2</th>\n",
       "      <td>Official exchange rate (LCU per US$, period av...</td>\n",
       "      <td>PA.NUS.FCRF</td>\n",
       "      <td>Tanzania</td>\n",
       "      <td>TZA</td>\n",
       "      <td>1653.232013</td>\n",
       "      <td>1991.390964</td>\n",
       "      <td>2177.085954</td>\n",
       "      <td>2228.857629</td>\n",
       "    </tr>\n",
       "    <tr>\n",
       "      <th>3</th>\n",
       "      <td>Official exchange rate (LCU per US$, period av...</td>\n",
       "      <td>PA.NUS.FCRF</td>\n",
       "      <td>Rwanda</td>\n",
       "      <td>RWA</td>\n",
       "      <td>681.861719</td>\n",
       "      <td>720.975109</td>\n",
       "      <td>787.251522</td>\n",
       "      <td>831.530787</td>\n",
       "    </tr>\n",
       "    <tr>\n",
       "      <th>4</th>\n",
       "      <td>NaN</td>\n",
       "      <td>NaN</td>\n",
       "      <td>NaN</td>\n",
       "      <td>NaN</td>\n",
       "      <td>NaN</td>\n",
       "      <td>NaN</td>\n",
       "      <td>NaN</td>\n",
       "      <td>NaN</td>\n",
       "    </tr>\n",
       "    <tr>\n",
       "      <th>5</th>\n",
       "      <td>NaN</td>\n",
       "      <td>NaN</td>\n",
       "      <td>NaN</td>\n",
       "      <td>NaN</td>\n",
       "      <td>NaN</td>\n",
       "      <td>NaN</td>\n",
       "      <td>NaN</td>\n",
       "      <td>NaN</td>\n",
       "    </tr>\n",
       "    <tr>\n",
       "      <th>6</th>\n",
       "      <td>NaN</td>\n",
       "      <td>NaN</td>\n",
       "      <td>NaN</td>\n",
       "      <td>NaN</td>\n",
       "      <td>NaN</td>\n",
       "      <td>NaN</td>\n",
       "      <td>NaN</td>\n",
       "      <td>NaN</td>\n",
       "    </tr>\n",
       "    <tr>\n",
       "      <th>7</th>\n",
       "      <td>Data from database: World Development Indicators</td>\n",
       "      <td>NaN</td>\n",
       "      <td>NaN</td>\n",
       "      <td>NaN</td>\n",
       "      <td>NaN</td>\n",
       "      <td>NaN</td>\n",
       "      <td>NaN</td>\n",
       "      <td>NaN</td>\n",
       "    </tr>\n",
       "    <tr>\n",
       "      <th>8</th>\n",
       "      <td>Last Updated: 04/09/2020</td>\n",
       "      <td>NaN</td>\n",
       "      <td>NaN</td>\n",
       "      <td>NaN</td>\n",
       "      <td>NaN</td>\n",
       "      <td>NaN</td>\n",
       "      <td>NaN</td>\n",
       "      <td>NaN</td>\n",
       "    </tr>\n",
       "  </tbody>\n",
       "</table>\n",
       "</div>"
      ],
      "text/plain": [
       "                                         series_name  series_code  \\\n",
       "0  Official exchange rate (LCU per US$, period av...  PA.NUS.FCRF   \n",
       "1  Official exchange rate (LCU per US$, period av...  PA.NUS.FCRF   \n",
       "2  Official exchange rate (LCU per US$, period av...  PA.NUS.FCRF   \n",
       "3  Official exchange rate (LCU per US$, period av...  PA.NUS.FCRF   \n",
       "4                                                NaN          NaN   \n",
       "5                                                NaN          NaN   \n",
       "6                                                NaN          NaN   \n",
       "7   Data from database: World Development Indicators          NaN   \n",
       "8                           Last Updated: 04/09/2020          NaN   \n",
       "\n",
       "  country_name country_code  2014_[yr2014]  2015_[yr2015]  2016_[yr2016]  \\\n",
       "0        Kenya          KEN      87.922500      98.179167     101.504167   \n",
       "1       Uganda          UGA    2599.788201    3240.645420    3420.098007   \n",
       "2     Tanzania          TZA    1653.232013    1991.390964    2177.085954   \n",
       "3       Rwanda          RWA     681.861719     720.975109     787.251522   \n",
       "4          NaN          NaN            NaN            NaN            NaN   \n",
       "5          NaN          NaN            NaN            NaN            NaN   \n",
       "6          NaN          NaN            NaN            NaN            NaN   \n",
       "7          NaN          NaN            NaN            NaN            NaN   \n",
       "8          NaN          NaN            NaN            NaN            NaN   \n",
       "\n",
       "   2017_[yr2017]  \n",
       "0     103.410446  \n",
       "1    3611.224458  \n",
       "2    2228.857629  \n",
       "3     831.530787  \n",
       "4            NaN  \n",
       "5            NaN  \n",
       "6            NaN  \n",
       "7            NaN  \n",
       "8            NaN  "
      ]
     },
     "execution_count": 27,
     "metadata": {},
     "output_type": "execute_result"
    }
   ],
   "source": [
    "####First Approach\n",
    "####Get the exchange rates (yearly averages) for all years which are in the dataset\n",
    "####Merge them together\n",
    "####Make the calculation\n",
    "####load data:\n",
    "###the data is in LCU per USD (yearly averages) -> for the conversion Division, not multiplication!\n",
    "###for simplicity measure just take the mean over the corresponding years for each country/currency\n",
    "exchange = pd.read_csv('external_data/exchange_rate.csv')\n",
    "###Convert column names as usual\n",
    "exchange.columns = exchange.columns.str.lower().str.replace(' ', '_')\n",
    "exchange"
   ]
  },
  {
   "cell_type": "code",
   "execution_count": 28,
   "metadata": {},
   "outputs": [
    {
     "data": {
      "text/html": [
       "<div>\n",
       "<style scoped>\n",
       "    .dataframe tbody tr th:only-of-type {\n",
       "        vertical-align: middle;\n",
       "    }\n",
       "\n",
       "    .dataframe tbody tr th {\n",
       "        vertical-align: top;\n",
       "    }\n",
       "\n",
       "    .dataframe thead th {\n",
       "        text-align: right;\n",
       "    }\n",
       "</style>\n",
       "<table border=\"1\" class=\"dataframe\">\n",
       "  <thead>\n",
       "    <tr style=\"text-align: right;\">\n",
       "      <th></th>\n",
       "      <th>country</th>\n",
       "      <th>2014</th>\n",
       "      <th>2015</th>\n",
       "      <th>2016</th>\n",
       "      <th>2017</th>\n",
       "    </tr>\n",
       "  </thead>\n",
       "  <tbody>\n",
       "    <tr>\n",
       "      <th>0</th>\n",
       "      <td>Kenya</td>\n",
       "      <td>87.922500</td>\n",
       "      <td>98.179167</td>\n",
       "      <td>101.504167</td>\n",
       "      <td>103.410446</td>\n",
       "    </tr>\n",
       "    <tr>\n",
       "      <th>1</th>\n",
       "      <td>Uganda</td>\n",
       "      <td>2599.788201</td>\n",
       "      <td>3240.645420</td>\n",
       "      <td>3420.098007</td>\n",
       "      <td>3611.224458</td>\n",
       "    </tr>\n",
       "    <tr>\n",
       "      <th>2</th>\n",
       "      <td>Tanzania</td>\n",
       "      <td>1653.232013</td>\n",
       "      <td>1991.390964</td>\n",
       "      <td>2177.085954</td>\n",
       "      <td>2228.857629</td>\n",
       "    </tr>\n",
       "    <tr>\n",
       "      <th>3</th>\n",
       "      <td>Rwanda</td>\n",
       "      <td>681.861719</td>\n",
       "      <td>720.975109</td>\n",
       "      <td>787.251522</td>\n",
       "      <td>831.530787</td>\n",
       "    </tr>\n",
       "  </tbody>\n",
       "</table>\n",
       "</div>"
      ],
      "text/plain": [
       "    country         2014         2015         2016         2017\n",
       "0     Kenya    87.922500    98.179167   101.504167   103.410446\n",
       "1    Uganda  2599.788201  3240.645420  3420.098007  3611.224458\n",
       "2  Tanzania  1653.232013  1991.390964  2177.085954  2228.857629\n",
       "3    Rwanda   681.861719   720.975109   787.251522   831.530787"
      ]
     },
     "execution_count": 28,
     "metadata": {},
     "output_type": "execute_result"
    }
   ],
   "source": [
    "#drop nas and columns not needed for the calculation\n",
    "exchange = exchange.dropna().drop(['series_name', 'series_code', 'country_code'], axis=1)\n",
    "exchange.rename(columns={'country_name':'country','2014_[yr2014]':'2014', '2015_[yr2015]':'2015', '2016_[yr2016]':'2016','2017_[yr2017]':'2017'}, inplace=True)\n",
    "exchange"
   ]
  },
  {
   "cell_type": "code",
   "execution_count": 29,
   "metadata": {},
   "outputs": [
    {
     "data": {
      "text/html": [
       "<div>\n",
       "<style scoped>\n",
       "    .dataframe tbody tr th:only-of-type {\n",
       "        vertical-align: middle;\n",
       "    }\n",
       "\n",
       "    .dataframe tbody tr th {\n",
       "        vertical-align: top;\n",
       "    }\n",
       "\n",
       "    .dataframe thead th {\n",
       "        text-align: right;\n",
       "    }\n",
       "</style>\n",
       "<table border=\"1\" class=\"dataframe\">\n",
       "  <thead>\n",
       "    <tr style=\"text-align: right;\">\n",
       "      <th></th>\n",
       "      <th>country</th>\n",
       "      <th>year</th>\n",
       "      <th>exrate</th>\n",
       "    </tr>\n",
       "  </thead>\n",
       "  <tbody>\n",
       "    <tr>\n",
       "      <th>0</th>\n",
       "      <td>Kenya</td>\n",
       "      <td>2014</td>\n",
       "      <td>87.922500</td>\n",
       "    </tr>\n",
       "    <tr>\n",
       "      <th>1</th>\n",
       "      <td>Uganda</td>\n",
       "      <td>2014</td>\n",
       "      <td>2599.788201</td>\n",
       "    </tr>\n",
       "    <tr>\n",
       "      <th>2</th>\n",
       "      <td>Tanzania</td>\n",
       "      <td>2014</td>\n",
       "      <td>1653.232013</td>\n",
       "    </tr>\n",
       "    <tr>\n",
       "      <th>3</th>\n",
       "      <td>Rwanda</td>\n",
       "      <td>2014</td>\n",
       "      <td>681.861719</td>\n",
       "    </tr>\n",
       "    <tr>\n",
       "      <th>4</th>\n",
       "      <td>Kenya</td>\n",
       "      <td>2015</td>\n",
       "      <td>98.179167</td>\n",
       "    </tr>\n",
       "    <tr>\n",
       "      <th>5</th>\n",
       "      <td>Uganda</td>\n",
       "      <td>2015</td>\n",
       "      <td>3240.645420</td>\n",
       "    </tr>\n",
       "    <tr>\n",
       "      <th>6</th>\n",
       "      <td>Tanzania</td>\n",
       "      <td>2015</td>\n",
       "      <td>1991.390964</td>\n",
       "    </tr>\n",
       "    <tr>\n",
       "      <th>7</th>\n",
       "      <td>Rwanda</td>\n",
       "      <td>2015</td>\n",
       "      <td>720.975109</td>\n",
       "    </tr>\n",
       "    <tr>\n",
       "      <th>8</th>\n",
       "      <td>Kenya</td>\n",
       "      <td>2016</td>\n",
       "      <td>101.504167</td>\n",
       "    </tr>\n",
       "    <tr>\n",
       "      <th>9</th>\n",
       "      <td>Uganda</td>\n",
       "      <td>2016</td>\n",
       "      <td>3420.098007</td>\n",
       "    </tr>\n",
       "    <tr>\n",
       "      <th>10</th>\n",
       "      <td>Tanzania</td>\n",
       "      <td>2016</td>\n",
       "      <td>2177.085954</td>\n",
       "    </tr>\n",
       "    <tr>\n",
       "      <th>11</th>\n",
       "      <td>Rwanda</td>\n",
       "      <td>2016</td>\n",
       "      <td>787.251522</td>\n",
       "    </tr>\n",
       "    <tr>\n",
       "      <th>12</th>\n",
       "      <td>Kenya</td>\n",
       "      <td>2017</td>\n",
       "      <td>103.410446</td>\n",
       "    </tr>\n",
       "    <tr>\n",
       "      <th>13</th>\n",
       "      <td>Uganda</td>\n",
       "      <td>2017</td>\n",
       "      <td>3611.224458</td>\n",
       "    </tr>\n",
       "    <tr>\n",
       "      <th>14</th>\n",
       "      <td>Tanzania</td>\n",
       "      <td>2017</td>\n",
       "      <td>2228.857629</td>\n",
       "    </tr>\n",
       "    <tr>\n",
       "      <th>15</th>\n",
       "      <td>Rwanda</td>\n",
       "      <td>2017</td>\n",
       "      <td>831.530787</td>\n",
       "    </tr>\n",
       "  </tbody>\n",
       "</table>\n",
       "</div>"
      ],
      "text/plain": [
       "     country  year       exrate\n",
       "0      Kenya  2014    87.922500\n",
       "1     Uganda  2014  2599.788201\n",
       "2   Tanzania  2014  1653.232013\n",
       "3     Rwanda  2014   681.861719\n",
       "4      Kenya  2015    98.179167\n",
       "5     Uganda  2015  3240.645420\n",
       "6   Tanzania  2015  1991.390964\n",
       "7     Rwanda  2015   720.975109\n",
       "8      Kenya  2016   101.504167\n",
       "9     Uganda  2016  3420.098007\n",
       "10  Tanzania  2016  2177.085954\n",
       "11    Rwanda  2016   787.251522\n",
       "12     Kenya  2017   103.410446\n",
       "13    Uganda  2017  3611.224458\n",
       "14  Tanzania  2017  2228.857629\n",
       "15    Rwanda  2017   831.530787"
      ]
     },
     "execution_count": 29,
     "metadata": {},
     "output_type": "execute_result"
    }
   ],
   "source": [
    "#rearrange the dataset in order to get the merge done:\n",
    "exchange = exchange.melt(id_vars=[\"country\"], \n",
    "        var_name=\"year\", \n",
    "        value_name=\"exrate\")\n",
    "exchange"
   ]
  },
  {
   "cell_type": "markdown",
   "metadata": {},
   "source": [
    "##### Preprocess EAC_core_mpi dataset in order to merge and merge the datasets together"
   ]
  },
  {
   "cell_type": "code",
   "execution_count": 30,
   "metadata": {},
   "outputs": [
    {
     "data": {
      "text/html": [
       "<div>\n",
       "<style scoped>\n",
       "    .dataframe tbody tr th:only-of-type {\n",
       "        vertical-align: middle;\n",
       "    }\n",
       "\n",
       "    .dataframe tbody tr th {\n",
       "        vertical-align: top;\n",
       "    }\n",
       "\n",
       "    .dataframe thead th {\n",
       "        text-align: right;\n",
       "    }\n",
       "</style>\n",
       "<table border=\"1\" class=\"dataframe\">\n",
       "  <thead>\n",
       "    <tr style=\"text-align: right;\">\n",
       "      <th></th>\n",
       "      <th>id</th>\n",
       "      <th>funded_amount</th>\n",
       "      <th>loan_amount</th>\n",
       "      <th>activity</th>\n",
       "      <th>sector</th>\n",
       "      <th>country_code</th>\n",
       "      <th>country</th>\n",
       "      <th>region</th>\n",
       "      <th>currency</th>\n",
       "      <th>partner_id</th>\n",
       "      <th>posted_time</th>\n",
       "      <th>disbursed_time</th>\n",
       "      <th>term_in_months</th>\n",
       "      <th>lender_count</th>\n",
       "      <th>borrower_genders</th>\n",
       "      <th>repayment_interval</th>\n",
       "      <th>date</th>\n",
       "      <th>geo_x</th>\n",
       "      <th>lat</th>\n",
       "      <th>lon</th>\n",
       "      <th>mpi_geo</th>\n",
       "      <th>geo_y</th>\n",
       "      <th>mpi</th>\n",
       "      <th>year</th>\n",
       "    </tr>\n",
       "  </thead>\n",
       "  <tbody>\n",
       "    <tr>\n",
       "      <th>0</th>\n",
       "      <td>653185</td>\n",
       "      <td>250.0</td>\n",
       "      <td>250.0</td>\n",
       "      <td>Fruits &amp; Vegetables</td>\n",
       "      <td>Food</td>\n",
       "      <td>KE</td>\n",
       "      <td>Kenya</td>\n",
       "      <td>Voi</td>\n",
       "      <td>KES</td>\n",
       "      <td>164.0</td>\n",
       "      <td>2014-01-02 06:59:33+00:00</td>\n",
       "      <td>2013-12-12 08:00:00+00:00</td>\n",
       "      <td>13.0</td>\n",
       "      <td>7</td>\n",
       "      <td>female</td>\n",
       "      <td>irregular</td>\n",
       "      <td>2014-01-02</td>\n",
       "      <td>(-3.3973104, 38.5559336)</td>\n",
       "      <td>-3.39731</td>\n",
       "      <td>38.555934</td>\n",
       "      <td>(-4.0627412, 39.6771481)</td>\n",
       "      <td>(-4.0627412, 39.6771481)</td>\n",
       "      <td>0.075</td>\n",
       "      <td>2014</td>\n",
       "    </tr>\n",
       "  </tbody>\n",
       "</table>\n",
       "</div>"
      ],
      "text/plain": [
       "       id  funded_amount  loan_amount             activity sector  \\\n",
       "0  653185          250.0        250.0  Fruits & Vegetables   Food   \n",
       "\n",
       "  country_code country region currency  partner_id                posted_time  \\\n",
       "0           KE   Kenya    Voi      KES       164.0  2014-01-02 06:59:33+00:00   \n",
       "\n",
       "              disbursed_time  term_in_months  lender_count borrower_genders  \\\n",
       "0  2013-12-12 08:00:00+00:00            13.0             7           female   \n",
       "\n",
       "  repayment_interval        date                     geo_x      lat  \\\n",
       "0          irregular  2014-01-02  (-3.3973104, 38.5559336) -3.39731   \n",
       "\n",
       "         lon                   mpi_geo                     geo_y    mpi  year  \n",
       "0  38.555934  (-4.0627412, 39.6771481)  (-4.0627412, 39.6771481)  0.075  2014  "
      ]
     },
     "execution_count": 30,
     "metadata": {},
     "output_type": "execute_result"
    }
   ],
   "source": [
    "##Extract the year from the data feature and create a new column in order to merge:\n",
    "EAC_core_mpi['year'] = pd.DatetimeIndex(EAC_core_mpi['date']).year\n",
    "EAC_core_mpi.head(1)"
   ]
  },
  {
   "cell_type": "code",
   "execution_count": 31,
   "metadata": {},
   "outputs": [
    {
     "data": {
      "text/plain": [
       "(90346, 24)"
      ]
     },
     "execution_count": 31,
     "metadata": {},
     "output_type": "execute_result"
    }
   ],
   "source": [
    "EAC_core_mpi.shape"
   ]
  },
  {
   "cell_type": "code",
   "execution_count": 32,
   "metadata": {},
   "outputs": [
    {
     "data": {
      "text/plain": [
       "(90346, 25)"
      ]
     },
     "execution_count": 32,
     "metadata": {},
     "output_type": "execute_result"
    }
   ],
   "source": [
    "###Merge the dataframes:\n",
    "###change year column to numeric in order to make the merge work:\n",
    "exchange.year = pd.to_numeric(exchange.year)\n",
    "EAC_core_mpi = pd.merge(EAC_core_mpi, \n",
    "                exchange[['country', 'year','exrate']],\n",
    "                how='left',\n",
    "                on=['year', 'country'],\n",
    "                validate='m:1' #many to one: check if in the right dataset keys are unique\n",
    "               )\n",
    "EAC_core_mpi.shape"
   ]
  },
  {
   "cell_type": "code",
   "execution_count": 33,
   "metadata": {},
   "outputs": [
    {
     "data": {
      "text/html": [
       "<div>\n",
       "<style scoped>\n",
       "    .dataframe tbody tr th:only-of-type {\n",
       "        vertical-align: middle;\n",
       "    }\n",
       "\n",
       "    .dataframe tbody tr th {\n",
       "        vertical-align: top;\n",
       "    }\n",
       "\n",
       "    .dataframe thead th {\n",
       "        text-align: right;\n",
       "    }\n",
       "</style>\n",
       "<table border=\"1\" class=\"dataframe\">\n",
       "  <thead>\n",
       "    <tr style=\"text-align: right;\">\n",
       "      <th></th>\n",
       "      <th>id</th>\n",
       "      <th>funded_amount</th>\n",
       "      <th>loan_amount</th>\n",
       "      <th>activity</th>\n",
       "      <th>sector</th>\n",
       "      <th>country_code</th>\n",
       "      <th>country</th>\n",
       "      <th>region</th>\n",
       "      <th>currency</th>\n",
       "      <th>partner_id</th>\n",
       "      <th>posted_time</th>\n",
       "      <th>disbursed_time</th>\n",
       "      <th>term_in_months</th>\n",
       "      <th>lender_count</th>\n",
       "      <th>borrower_genders</th>\n",
       "      <th>repayment_interval</th>\n",
       "      <th>date</th>\n",
       "      <th>geo_x</th>\n",
       "      <th>lat</th>\n",
       "      <th>lon</th>\n",
       "      <th>mpi_geo</th>\n",
       "      <th>geo_y</th>\n",
       "      <th>mpi</th>\n",
       "      <th>year</th>\n",
       "      <th>exrate</th>\n",
       "    </tr>\n",
       "  </thead>\n",
       "  <tbody>\n",
       "    <tr>\n",
       "      <th>0</th>\n",
       "      <td>653185</td>\n",
       "      <td>250.0</td>\n",
       "      <td>250.0</td>\n",
       "      <td>Fruits &amp; Vegetables</td>\n",
       "      <td>Food</td>\n",
       "      <td>KE</td>\n",
       "      <td>Kenya</td>\n",
       "      <td>Voi</td>\n",
       "      <td>KES</td>\n",
       "      <td>164.0</td>\n",
       "      <td>2014-01-02 06:59:33+00:00</td>\n",
       "      <td>2013-12-12 08:00:00+00:00</td>\n",
       "      <td>13.0</td>\n",
       "      <td>7</td>\n",
       "      <td>female</td>\n",
       "      <td>irregular</td>\n",
       "      <td>2014-01-02</td>\n",
       "      <td>(-3.3973104, 38.5559336)</td>\n",
       "      <td>-3.39731</td>\n",
       "      <td>38.555934</td>\n",
       "      <td>(-4.0627412, 39.6771481)</td>\n",
       "      <td>(-4.0627412, 39.6771481)</td>\n",
       "      <td>0.075</td>\n",
       "      <td>2014</td>\n",
       "      <td>87.9225</td>\n",
       "    </tr>\n",
       "  </tbody>\n",
       "</table>\n",
       "</div>"
      ],
      "text/plain": [
       "       id  funded_amount  loan_amount             activity sector  \\\n",
       "0  653185          250.0        250.0  Fruits & Vegetables   Food   \n",
       "\n",
       "  country_code country region currency  partner_id                posted_time  \\\n",
       "0           KE   Kenya    Voi      KES       164.0  2014-01-02 06:59:33+00:00   \n",
       "\n",
       "              disbursed_time  term_in_months  lender_count borrower_genders  \\\n",
       "0  2013-12-12 08:00:00+00:00            13.0             7           female   \n",
       "\n",
       "  repayment_interval        date                     geo_x      lat  \\\n",
       "0          irregular  2014-01-02  (-3.3973104, 38.5559336) -3.39731   \n",
       "\n",
       "         lon                   mpi_geo                     geo_y    mpi  year  \\\n",
       "0  38.555934  (-4.0627412, 39.6771481)  (-4.0627412, 39.6771481)  0.075  2014   \n",
       "\n",
       "    exrate  \n",
       "0  87.9225  "
      ]
     },
     "execution_count": 33,
     "metadata": {},
     "output_type": "execute_result"
    }
   ],
   "source": [
    "EAC_core_mpi.head(1)"
   ]
  },
  {
   "cell_type": "markdown",
   "metadata": {},
   "source": [
    "#### Calculate the funded amount and loan amount in USD:"
   ]
  },
  {
   "cell_type": "code",
   "execution_count": 34,
   "metadata": {},
   "outputs": [
    {
     "data": {
      "text/html": [
       "<div>\n",
       "<style scoped>\n",
       "    .dataframe tbody tr th:only-of-type {\n",
       "        vertical-align: middle;\n",
       "    }\n",
       "\n",
       "    .dataframe tbody tr th {\n",
       "        vertical-align: top;\n",
       "    }\n",
       "\n",
       "    .dataframe thead th {\n",
       "        text-align: right;\n",
       "    }\n",
       "</style>\n",
       "<table border=\"1\" class=\"dataframe\">\n",
       "  <thead>\n",
       "    <tr style=\"text-align: right;\">\n",
       "      <th></th>\n",
       "      <th>id</th>\n",
       "      <th>funded_amount</th>\n",
       "      <th>loan_amount</th>\n",
       "      <th>activity</th>\n",
       "      <th>sector</th>\n",
       "      <th>country_code</th>\n",
       "      <th>country</th>\n",
       "      <th>region</th>\n",
       "      <th>currency</th>\n",
       "      <th>partner_id</th>\n",
       "      <th>posted_time</th>\n",
       "      <th>disbursed_time</th>\n",
       "      <th>term_in_months</th>\n",
       "      <th>lender_count</th>\n",
       "      <th>borrower_genders</th>\n",
       "      <th>repayment_interval</th>\n",
       "      <th>date</th>\n",
       "      <th>geo_x</th>\n",
       "      <th>lat</th>\n",
       "      <th>lon</th>\n",
       "      <th>mpi_geo</th>\n",
       "      <th>geo_y</th>\n",
       "      <th>mpi</th>\n",
       "      <th>year</th>\n",
       "      <th>exrate</th>\n",
       "      <th>funded_amount_usd</th>\n",
       "      <th>loan_amount_usd</th>\n",
       "    </tr>\n",
       "  </thead>\n",
       "  <tbody>\n",
       "    <tr>\n",
       "      <th>0</th>\n",
       "      <td>653185</td>\n",
       "      <td>250.0</td>\n",
       "      <td>250.0</td>\n",
       "      <td>Fruits &amp; Vegetables</td>\n",
       "      <td>Food</td>\n",
       "      <td>KE</td>\n",
       "      <td>Kenya</td>\n",
       "      <td>Voi</td>\n",
       "      <td>KES</td>\n",
       "      <td>164.0</td>\n",
       "      <td>2014-01-02 06:59:33+00:00</td>\n",
       "      <td>2013-12-12 08:00:00+00:00</td>\n",
       "      <td>13.0</td>\n",
       "      <td>7</td>\n",
       "      <td>female</td>\n",
       "      <td>irregular</td>\n",
       "      <td>2014-01-02</td>\n",
       "      <td>(-3.3973104, 38.5559336)</td>\n",
       "      <td>-3.397310</td>\n",
       "      <td>38.555934</td>\n",
       "      <td>(-4.0627412, 39.6771481)</td>\n",
       "      <td>(-4.0627412, 39.6771481)</td>\n",
       "      <td>0.075</td>\n",
       "      <td>2014</td>\n",
       "      <td>87.922500</td>\n",
       "      <td>2.843413</td>\n",
       "      <td>2.843413</td>\n",
       "    </tr>\n",
       "    <tr>\n",
       "      <th>1</th>\n",
       "      <td>653170</td>\n",
       "      <td>3175.0</td>\n",
       "      <td>3175.0</td>\n",
       "      <td>Butcher Shop</td>\n",
       "      <td>Food</td>\n",
       "      <td>TZ</td>\n",
       "      <td>Tanzania</td>\n",
       "      <td>Dar es Salaam</td>\n",
       "      <td>TZS</td>\n",
       "      <td>87.0</td>\n",
       "      <td>2014-01-02 06:26:40+00:00</td>\n",
       "      <td>2013-12-26 08:00:00+00:00</td>\n",
       "      <td>10.0</td>\n",
       "      <td>93</td>\n",
       "      <td>male, male, male, male, male</td>\n",
       "      <td>monthly</td>\n",
       "      <td>2014-01-02</td>\n",
       "      <td>(-6.792354, 39.2083284)</td>\n",
       "      <td>-6.792354</td>\n",
       "      <td>39.208328</td>\n",
       "      <td>(-6.135729500000001, 39.3621196)</td>\n",
       "      <td>(-6.135729500000001, 39.3621196)</td>\n",
       "      <td>0.143</td>\n",
       "      <td>2014</td>\n",
       "      <td>1653.232013</td>\n",
       "      <td>1.920481</td>\n",
       "      <td>1.920481</td>\n",
       "    </tr>\n",
       "    <tr>\n",
       "      <th>2</th>\n",
       "      <td>653237</td>\n",
       "      <td>250.0</td>\n",
       "      <td>250.0</td>\n",
       "      <td>Cosmetics Sales</td>\n",
       "      <td>Retail</td>\n",
       "      <td>KE</td>\n",
       "      <td>Kenya</td>\n",
       "      <td>Likoni</td>\n",
       "      <td>KES</td>\n",
       "      <td>164.0</td>\n",
       "      <td>2014-01-02 08:58:55+00:00</td>\n",
       "      <td>2013-12-09 08:00:00+00:00</td>\n",
       "      <td>14.0</td>\n",
       "      <td>3</td>\n",
       "      <td>female</td>\n",
       "      <td>irregular</td>\n",
       "      <td>2014-01-02</td>\n",
       "      <td>(-4.0929017, 39.6614446)</td>\n",
       "      <td>-4.092902</td>\n",
       "      <td>39.661445</td>\n",
       "      <td>(-4.0627412, 39.6771481)</td>\n",
       "      <td>(-4.0627412, 39.6771481)</td>\n",
       "      <td>0.075</td>\n",
       "      <td>2014</td>\n",
       "      <td>87.922500</td>\n",
       "      <td>2.843413</td>\n",
       "      <td>2.843413</td>\n",
       "    </tr>\n",
       "  </tbody>\n",
       "</table>\n",
       "</div>"
      ],
      "text/plain": [
       "       id  funded_amount  loan_amount             activity  sector  \\\n",
       "0  653185          250.0        250.0  Fruits & Vegetables    Food   \n",
       "1  653170         3175.0       3175.0         Butcher Shop    Food   \n",
       "2  653237          250.0        250.0      Cosmetics Sales  Retail   \n",
       "\n",
       "  country_code   country         region currency  partner_id  \\\n",
       "0           KE     Kenya            Voi      KES       164.0   \n",
       "1           TZ  Tanzania  Dar es Salaam      TZS        87.0   \n",
       "2           KE     Kenya         Likoni      KES       164.0   \n",
       "\n",
       "                 posted_time             disbursed_time  term_in_months  \\\n",
       "0  2014-01-02 06:59:33+00:00  2013-12-12 08:00:00+00:00            13.0   \n",
       "1  2014-01-02 06:26:40+00:00  2013-12-26 08:00:00+00:00            10.0   \n",
       "2  2014-01-02 08:58:55+00:00  2013-12-09 08:00:00+00:00            14.0   \n",
       "\n",
       "   lender_count              borrower_genders repayment_interval        date  \\\n",
       "0             7                        female          irregular  2014-01-02   \n",
       "1            93  male, male, male, male, male            monthly  2014-01-02   \n",
       "2             3                        female          irregular  2014-01-02   \n",
       "\n",
       "                      geo_x       lat        lon  \\\n",
       "0  (-3.3973104, 38.5559336) -3.397310  38.555934   \n",
       "1   (-6.792354, 39.2083284) -6.792354  39.208328   \n",
       "2  (-4.0929017, 39.6614446) -4.092902  39.661445   \n",
       "\n",
       "                            mpi_geo                             geo_y    mpi  \\\n",
       "0          (-4.0627412, 39.6771481)          (-4.0627412, 39.6771481)  0.075   \n",
       "1  (-6.135729500000001, 39.3621196)  (-6.135729500000001, 39.3621196)  0.143   \n",
       "2          (-4.0627412, 39.6771481)          (-4.0627412, 39.6771481)  0.075   \n",
       "\n",
       "   year       exrate  funded_amount_usd  loan_amount_usd  \n",
       "0  2014    87.922500           2.843413         2.843413  \n",
       "1  2014  1653.232013           1.920481         1.920481  \n",
       "2  2014    87.922500           2.843413         2.843413  "
      ]
     },
     "execution_count": 34,
     "metadata": {},
     "output_type": "execute_result"
    }
   ],
   "source": [
    "EAC_core_mpi['funded_amount_usd'] = EAC_core_mpi['funded_amount'] / EAC_core_mpi['exrate']\n",
    "EAC_core_mpi['loan_amount_usd'] = EAC_core_mpi['loan_amount'] / EAC_core_mpi['exrate']\n",
    "EAC_core_mpi.head(3)"
   ]
  },
  {
   "cell_type": "markdown",
   "metadata": {},
   "source": [
    "#### Extracting information from the gender variable:"
   ]
  },
  {
   "cell_type": "code",
   "execution_count": 35,
   "metadata": {},
   "outputs": [],
   "source": [
    "####Creating a new column for gender, first approach: If there is more than one entry-> label it as a group!\n",
    "\n",
    "gender=[]\n",
    "\n",
    "for row in EAC_core_mpi['borrower_genders']: \n",
    "    if row =='female':\n",
    "        gender.append('female')\n",
    "    elif row=='male':\n",
    "        gender.append('male')\n",
    "    else: \n",
    "        gender.append('group')\n",
    "        \n",
    "EAC_core_mpi['gender'] = gender"
   ]
  },
  {
   "cell_type": "code",
   "execution_count": 36,
   "metadata": {},
   "outputs": [
    {
     "data": {
      "text/html": [
       "<div>\n",
       "<style scoped>\n",
       "    .dataframe tbody tr th:only-of-type {\n",
       "        vertical-align: middle;\n",
       "    }\n",
       "\n",
       "    .dataframe tbody tr th {\n",
       "        vertical-align: top;\n",
       "    }\n",
       "\n",
       "    .dataframe thead th {\n",
       "        text-align: right;\n",
       "    }\n",
       "</style>\n",
       "<table border=\"1\" class=\"dataframe\">\n",
       "  <thead>\n",
       "    <tr style=\"text-align: right;\">\n",
       "      <th></th>\n",
       "      <th>id</th>\n",
       "      <th>funded_amount</th>\n",
       "      <th>loan_amount</th>\n",
       "      <th>activity</th>\n",
       "      <th>sector</th>\n",
       "      <th>country_code</th>\n",
       "      <th>country</th>\n",
       "      <th>region</th>\n",
       "      <th>currency</th>\n",
       "      <th>partner_id</th>\n",
       "      <th>posted_time</th>\n",
       "      <th>disbursed_time</th>\n",
       "      <th>term_in_months</th>\n",
       "      <th>lender_count</th>\n",
       "      <th>borrower_genders</th>\n",
       "      <th>repayment_interval</th>\n",
       "      <th>date</th>\n",
       "      <th>geo_x</th>\n",
       "      <th>lat</th>\n",
       "      <th>lon</th>\n",
       "      <th>mpi_geo</th>\n",
       "      <th>geo_y</th>\n",
       "      <th>mpi</th>\n",
       "      <th>year</th>\n",
       "      <th>exrate</th>\n",
       "      <th>funded_amount_usd</th>\n",
       "      <th>loan_amount_usd</th>\n",
       "      <th>gender</th>\n",
       "    </tr>\n",
       "  </thead>\n",
       "  <tbody>\n",
       "    <tr>\n",
       "      <th>0</th>\n",
       "      <td>653185</td>\n",
       "      <td>250.0</td>\n",
       "      <td>250.0</td>\n",
       "      <td>Fruits &amp; Vegetables</td>\n",
       "      <td>Food</td>\n",
       "      <td>KE</td>\n",
       "      <td>Kenya</td>\n",
       "      <td>Voi</td>\n",
       "      <td>KES</td>\n",
       "      <td>164.0</td>\n",
       "      <td>2014-01-02 06:59:33+00:00</td>\n",
       "      <td>2013-12-12 08:00:00+00:00</td>\n",
       "      <td>13.0</td>\n",
       "      <td>7</td>\n",
       "      <td>female</td>\n",
       "      <td>irregular</td>\n",
       "      <td>2014-01-02</td>\n",
       "      <td>(-3.3973104, 38.5559336)</td>\n",
       "      <td>-3.397310</td>\n",
       "      <td>38.555934</td>\n",
       "      <td>(-4.0627412, 39.6771481)</td>\n",
       "      <td>(-4.0627412, 39.6771481)</td>\n",
       "      <td>0.075</td>\n",
       "      <td>2014</td>\n",
       "      <td>87.922500</td>\n",
       "      <td>2.843413</td>\n",
       "      <td>2.843413</td>\n",
       "      <td>female</td>\n",
       "    </tr>\n",
       "    <tr>\n",
       "      <th>1</th>\n",
       "      <td>653170</td>\n",
       "      <td>3175.0</td>\n",
       "      <td>3175.0</td>\n",
       "      <td>Butcher Shop</td>\n",
       "      <td>Food</td>\n",
       "      <td>TZ</td>\n",
       "      <td>Tanzania</td>\n",
       "      <td>Dar es Salaam</td>\n",
       "      <td>TZS</td>\n",
       "      <td>87.0</td>\n",
       "      <td>2014-01-02 06:26:40+00:00</td>\n",
       "      <td>2013-12-26 08:00:00+00:00</td>\n",
       "      <td>10.0</td>\n",
       "      <td>93</td>\n",
       "      <td>male, male, male, male, male</td>\n",
       "      <td>monthly</td>\n",
       "      <td>2014-01-02</td>\n",
       "      <td>(-6.792354, 39.2083284)</td>\n",
       "      <td>-6.792354</td>\n",
       "      <td>39.208328</td>\n",
       "      <td>(-6.135729500000001, 39.3621196)</td>\n",
       "      <td>(-6.135729500000001, 39.3621196)</td>\n",
       "      <td>0.143</td>\n",
       "      <td>2014</td>\n",
       "      <td>1653.232013</td>\n",
       "      <td>1.920481</td>\n",
       "      <td>1.920481</td>\n",
       "      <td>group</td>\n",
       "    </tr>\n",
       "    <tr>\n",
       "      <th>2</th>\n",
       "      <td>653237</td>\n",
       "      <td>250.0</td>\n",
       "      <td>250.0</td>\n",
       "      <td>Cosmetics Sales</td>\n",
       "      <td>Retail</td>\n",
       "      <td>KE</td>\n",
       "      <td>Kenya</td>\n",
       "      <td>Likoni</td>\n",
       "      <td>KES</td>\n",
       "      <td>164.0</td>\n",
       "      <td>2014-01-02 08:58:55+00:00</td>\n",
       "      <td>2013-12-09 08:00:00+00:00</td>\n",
       "      <td>14.0</td>\n",
       "      <td>3</td>\n",
       "      <td>female</td>\n",
       "      <td>irregular</td>\n",
       "      <td>2014-01-02</td>\n",
       "      <td>(-4.0929017, 39.6614446)</td>\n",
       "      <td>-4.092902</td>\n",
       "      <td>39.661445</td>\n",
       "      <td>(-4.0627412, 39.6771481)</td>\n",
       "      <td>(-4.0627412, 39.6771481)</td>\n",
       "      <td>0.075</td>\n",
       "      <td>2014</td>\n",
       "      <td>87.922500</td>\n",
       "      <td>2.843413</td>\n",
       "      <td>2.843413</td>\n",
       "      <td>female</td>\n",
       "    </tr>\n",
       "    <tr>\n",
       "      <th>3</th>\n",
       "      <td>653229</td>\n",
       "      <td>250.0</td>\n",
       "      <td>250.0</td>\n",
       "      <td>Tailoring</td>\n",
       "      <td>Services</td>\n",
       "      <td>KE</td>\n",
       "      <td>Kenya</td>\n",
       "      <td>Likoni</td>\n",
       "      <td>KES</td>\n",
       "      <td>164.0</td>\n",
       "      <td>2014-01-02 08:43:29+00:00</td>\n",
       "      <td>2013-12-09 08:00:00+00:00</td>\n",
       "      <td>14.0</td>\n",
       "      <td>1</td>\n",
       "      <td>female</td>\n",
       "      <td>irregular</td>\n",
       "      <td>2014-01-02</td>\n",
       "      <td>(-4.0929017, 39.6614446)</td>\n",
       "      <td>-4.092902</td>\n",
       "      <td>39.661445</td>\n",
       "      <td>(-4.0627412, 39.6771481)</td>\n",
       "      <td>(-4.0627412, 39.6771481)</td>\n",
       "      <td>0.075</td>\n",
       "      <td>2014</td>\n",
       "      <td>87.922500</td>\n",
       "      <td>2.843413</td>\n",
       "      <td>2.843413</td>\n",
       "      <td>female</td>\n",
       "    </tr>\n",
       "    <tr>\n",
       "      <th>4</th>\n",
       "      <td>653161</td>\n",
       "      <td>3175.0</td>\n",
       "      <td>3175.0</td>\n",
       "      <td>Home Products Sales</td>\n",
       "      <td>Retail</td>\n",
       "      <td>TZ</td>\n",
       "      <td>Tanzania</td>\n",
       "      <td>Dar es Salaam</td>\n",
       "      <td>TZS</td>\n",
       "      <td>87.0</td>\n",
       "      <td>2014-01-02 06:03:54+00:00</td>\n",
       "      <td>2013-12-26 08:00:00+00:00</td>\n",
       "      <td>8.0</td>\n",
       "      <td>114</td>\n",
       "      <td>male, female, female, female</td>\n",
       "      <td>irregular</td>\n",
       "      <td>2014-01-02</td>\n",
       "      <td>(-6.792354, 39.2083284)</td>\n",
       "      <td>-6.792354</td>\n",
       "      <td>39.208328</td>\n",
       "      <td>(-6.135729500000001, 39.3621196)</td>\n",
       "      <td>(-6.135729500000001, 39.3621196)</td>\n",
       "      <td>0.143</td>\n",
       "      <td>2014</td>\n",
       "      <td>1653.232013</td>\n",
       "      <td>1.920481</td>\n",
       "      <td>1.920481</td>\n",
       "      <td>group</td>\n",
       "    </tr>\n",
       "  </tbody>\n",
       "</table>\n",
       "</div>"
      ],
      "text/plain": [
       "       id  funded_amount  loan_amount             activity    sector  \\\n",
       "0  653185          250.0        250.0  Fruits & Vegetables      Food   \n",
       "1  653170         3175.0       3175.0         Butcher Shop      Food   \n",
       "2  653237          250.0        250.0      Cosmetics Sales    Retail   \n",
       "3  653229          250.0        250.0            Tailoring  Services   \n",
       "4  653161         3175.0       3175.0  Home Products Sales    Retail   \n",
       "\n",
       "  country_code   country         region currency  partner_id  \\\n",
       "0           KE     Kenya            Voi      KES       164.0   \n",
       "1           TZ  Tanzania  Dar es Salaam      TZS        87.0   \n",
       "2           KE     Kenya         Likoni      KES       164.0   \n",
       "3           KE     Kenya         Likoni      KES       164.0   \n",
       "4           TZ  Tanzania  Dar es Salaam      TZS        87.0   \n",
       "\n",
       "                 posted_time             disbursed_time  term_in_months  \\\n",
       "0  2014-01-02 06:59:33+00:00  2013-12-12 08:00:00+00:00            13.0   \n",
       "1  2014-01-02 06:26:40+00:00  2013-12-26 08:00:00+00:00            10.0   \n",
       "2  2014-01-02 08:58:55+00:00  2013-12-09 08:00:00+00:00            14.0   \n",
       "3  2014-01-02 08:43:29+00:00  2013-12-09 08:00:00+00:00            14.0   \n",
       "4  2014-01-02 06:03:54+00:00  2013-12-26 08:00:00+00:00             8.0   \n",
       "\n",
       "   lender_count              borrower_genders repayment_interval        date  \\\n",
       "0             7                        female          irregular  2014-01-02   \n",
       "1            93  male, male, male, male, male            monthly  2014-01-02   \n",
       "2             3                        female          irregular  2014-01-02   \n",
       "3             1                        female          irregular  2014-01-02   \n",
       "4           114  male, female, female, female          irregular  2014-01-02   \n",
       "\n",
       "                      geo_x       lat        lon  \\\n",
       "0  (-3.3973104, 38.5559336) -3.397310  38.555934   \n",
       "1   (-6.792354, 39.2083284) -6.792354  39.208328   \n",
       "2  (-4.0929017, 39.6614446) -4.092902  39.661445   \n",
       "3  (-4.0929017, 39.6614446) -4.092902  39.661445   \n",
       "4   (-6.792354, 39.2083284) -6.792354  39.208328   \n",
       "\n",
       "                            mpi_geo                             geo_y    mpi  \\\n",
       "0          (-4.0627412, 39.6771481)          (-4.0627412, 39.6771481)  0.075   \n",
       "1  (-6.135729500000001, 39.3621196)  (-6.135729500000001, 39.3621196)  0.143   \n",
       "2          (-4.0627412, 39.6771481)          (-4.0627412, 39.6771481)  0.075   \n",
       "3          (-4.0627412, 39.6771481)          (-4.0627412, 39.6771481)  0.075   \n",
       "4  (-6.135729500000001, 39.3621196)  (-6.135729500000001, 39.3621196)  0.143   \n",
       "\n",
       "   year       exrate  funded_amount_usd  loan_amount_usd  gender  \n",
       "0  2014    87.922500           2.843413         2.843413  female  \n",
       "1  2014  1653.232013           1.920481         1.920481   group  \n",
       "2  2014    87.922500           2.843413         2.843413  female  \n",
       "3  2014    87.922500           2.843413         2.843413  female  \n",
       "4  2014  1653.232013           1.920481         1.920481   group  "
      ]
     },
     "execution_count": 36,
     "metadata": {},
     "output_type": "execute_result"
    }
   ],
   "source": [
    "EAC_core_mpi.head()"
   ]
  },
  {
   "cell_type": "code",
   "execution_count": 37,
   "metadata": {},
   "outputs": [
    {
     "data": {
      "text/plain": [
       "female    51157\n",
       "male      24890\n",
       "group     14299\n",
       "Name: gender, dtype: int64"
      ]
     },
     "execution_count": 37,
     "metadata": {},
     "output_type": "execute_result"
    }
   ],
   "source": [
    "EAC_core_mpi.gender.value_counts()"
   ]
  },
  {
   "cell_type": "code",
   "execution_count": 38,
   "metadata": {},
   "outputs": [
    {
     "data": {
      "text/plain": [
       "0.223    23046\n",
       "0.190    11978\n",
       "0.346    11280\n",
       "0.075    10241\n",
       "0.211     9411\n",
       "0.509     7101\n",
       "0.143     4045\n",
       "0.076     2534\n",
       "0.400     2363\n",
       "0.020     2022\n",
       "0.242     1129\n",
       "0.371     1074\n",
       "0.484     1058\n",
       "0.294      889\n",
       "0.417      635\n",
       "0.118      430\n",
       "0.332      426\n",
       "0.145      380\n",
       "0.292      139\n",
       "0.431      139\n",
       "0.266       13\n",
       "0.243       12\n",
       "0.634        1\n",
       "Name: mpi, dtype: int64"
      ]
     },
     "execution_count": 38,
     "metadata": {},
     "output_type": "execute_result"
    }
   ],
   "source": [
    "EAC_core_mpi.mpi.value_counts()"
   ]
  },
  {
   "cell_type": "code",
   "execution_count": 39,
   "metadata": {},
   "outputs": [],
   "source": [
    "#####Saving the dataframe for further work (EDA, etc.)\n",
    "EAC_core_mpi.to_csv(r'data/kiva_cleaned.csv', index = False, header=True)"
   ]
  }
 ],
 "metadata": {
  "kernelspec": {
   "display_name": "Python [conda env:nf] *",
   "language": "python",
   "name": "conda-env-nf-py"
  },
  "language_info": {
   "codemirror_mode": {
    "name": "ipython",
    "version": 3
   },
   "file_extension": ".py",
   "mimetype": "text/x-python",
   "name": "python",
   "nbconvert_exporter": "python",
   "pygments_lexer": "ipython3",
   "version": "3.6.10"
  }
 },
 "nbformat": 4,
 "nbformat_minor": 4
}
