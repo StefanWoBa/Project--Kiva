{
 "cells": [
  {
   "cell_type": "markdown",
   "metadata": {},
   "source": [
    "# 05 Data Preprocessing & Modelling - Using Pipelines"
   ]
  },
  {
   "cell_type": "code",
   "execution_count": 4,
   "metadata": {},
   "outputs": [],
   "source": [
    "import pandas as pd\n",
    "import numpy as np\n",
    "import matplotlib.pyplot as plt # for plotting numpay arrays"
   ]
  },
  {
   "cell_type": "code",
   "execution_count": 2,
   "metadata": {},
   "outputs": [],
   "source": [
    "pd.set_option('display.max_columns', None)"
   ]
  },
  {
   "cell_type": "code",
   "execution_count": 3,
   "metadata": {},
   "outputs": [],
   "source": [
    "kiva_final = pd.read_csv('data/kiva_hh.csv')"
   ]
  },
  {
   "cell_type": "code",
   "execution_count": 4,
   "metadata": {},
   "outputs": [
    {
     "data": {
      "text/html": [
       "<div>\n",
       "<style scoped>\n",
       "    .dataframe tbody tr th:only-of-type {\n",
       "        vertical-align: middle;\n",
       "    }\n",
       "\n",
       "    .dataframe tbody tr th {\n",
       "        vertical-align: top;\n",
       "    }\n",
       "\n",
       "    .dataframe thead th {\n",
       "        text-align: right;\n",
       "    }\n",
       "</style>\n",
       "<table border=\"1\" class=\"dataframe\">\n",
       "  <thead>\n",
       "    <tr style=\"text-align: right;\">\n",
       "      <th></th>\n",
       "      <th>sector</th>\n",
       "      <th>country_code</th>\n",
       "      <th>region</th>\n",
       "      <th>partner_id</th>\n",
       "      <th>term_in_months</th>\n",
       "      <th>lender_count</th>\n",
       "      <th>repayment_interval</th>\n",
       "      <th>year</th>\n",
       "      <th>funded_amount_usd</th>\n",
       "      <th>gender</th>\n",
       "      <th>hv271</th>\n",
       "      <th>avg_pre</th>\n",
       "      <th>avg_temp</th>\n",
       "      <th>dist_coast</th>\n",
       "      <th>pop_dens</th>\n",
       "      <th>conflict_deaths</th>\n",
       "      <th>nightlite</th>\n",
       "      <th>physical_elevation</th>\n",
       "      <th>gdp</th>\n",
       "      <th>access_cities</th>\n",
       "    </tr>\n",
       "  </thead>\n",
       "  <tbody>\n",
       "    <tr>\n",
       "      <th>0</th>\n",
       "      <td>Food</td>\n",
       "      <td>TZ</td>\n",
       "      <td>Bagamoyo</td>\n",
       "      <td>379.0</td>\n",
       "      <td>8.0</td>\n",
       "      <td>6.0</td>\n",
       "      <td>irregular</td>\n",
       "      <td>2015.0</td>\n",
       "      <td>0.138094</td>\n",
       "      <td>female</td>\n",
       "      <td>128721.0</td>\n",
       "      <td>72.890916</td>\n",
       "      <td>26.408804</td>\n",
       "      <td>49414.959752</td>\n",
       "      <td>25.266386</td>\n",
       "      <td>0.0</td>\n",
       "      <td>0.192784</td>\n",
       "      <td>228.443757</td>\n",
       "      <td>0.032569</td>\n",
       "      <td>125.102745</td>\n",
       "    </tr>\n",
       "    <tr>\n",
       "      <th>1</th>\n",
       "      <td>Retail</td>\n",
       "      <td>TZ</td>\n",
       "      <td>Bagamoyo</td>\n",
       "      <td>379.0</td>\n",
       "      <td>14.0</td>\n",
       "      <td>11.0</td>\n",
       "      <td>monthly</td>\n",
       "      <td>2016.0</td>\n",
       "      <td>0.218182</td>\n",
       "      <td>female</td>\n",
       "      <td>128721.0</td>\n",
       "      <td>72.890916</td>\n",
       "      <td>26.408804</td>\n",
       "      <td>49414.959752</td>\n",
       "      <td>25.266386</td>\n",
       "      <td>0.0</td>\n",
       "      <td>0.192784</td>\n",
       "      <td>228.443757</td>\n",
       "      <td>0.032569</td>\n",
       "      <td>125.102745</td>\n",
       "    </tr>\n",
       "    <tr>\n",
       "      <th>2</th>\n",
       "      <td>Clothing</td>\n",
       "      <td>TZ</td>\n",
       "      <td>Bagamoyo</td>\n",
       "      <td>379.0</td>\n",
       "      <td>8.0</td>\n",
       "      <td>10.0</td>\n",
       "      <td>irregular</td>\n",
       "      <td>2014.0</td>\n",
       "      <td>0.287316</td>\n",
       "      <td>female</td>\n",
       "      <td>128721.0</td>\n",
       "      <td>72.890916</td>\n",
       "      <td>26.408804</td>\n",
       "      <td>49414.959752</td>\n",
       "      <td>25.266386</td>\n",
       "      <td>0.0</td>\n",
       "      <td>0.192784</td>\n",
       "      <td>228.443757</td>\n",
       "      <td>0.032569</td>\n",
       "      <td>125.102745</td>\n",
       "    </tr>\n",
       "  </tbody>\n",
       "</table>\n",
       "</div>"
      ],
      "text/plain": [
       "     sector country_code    region  partner_id  term_in_months  lender_count  \\\n",
       "0      Food           TZ  Bagamoyo       379.0             8.0           6.0   \n",
       "1    Retail           TZ  Bagamoyo       379.0            14.0          11.0   \n",
       "2  Clothing           TZ  Bagamoyo       379.0             8.0          10.0   \n",
       "\n",
       "  repayment_interval    year  funded_amount_usd  gender     hv271    avg_pre  \\\n",
       "0          irregular  2015.0           0.138094  female  128721.0  72.890916   \n",
       "1            monthly  2016.0           0.218182  female  128721.0  72.890916   \n",
       "2          irregular  2014.0           0.287316  female  128721.0  72.890916   \n",
       "\n",
       "    avg_temp    dist_coast   pop_dens  conflict_deaths  nightlite  \\\n",
       "0  26.408804  49414.959752  25.266386              0.0   0.192784   \n",
       "1  26.408804  49414.959752  25.266386              0.0   0.192784   \n",
       "2  26.408804  49414.959752  25.266386              0.0   0.192784   \n",
       "\n",
       "   physical_elevation       gdp  access_cities  \n",
       "0          228.443757  0.032569     125.102745  \n",
       "1          228.443757  0.032569     125.102745  \n",
       "2          228.443757  0.032569     125.102745  "
      ]
     },
     "execution_count": 4,
     "metadata": {},
     "output_type": "execute_result"
    }
   ],
   "source": [
    "## Delete irrelevant columns:\n",
    "kiva_model = kiva_final.drop(['activity',  'date', 'borrower_genders', 'hv001', 'hv270',\n",
    "                              'lat', 'lon', 'posted_time', 'disbursed_time', 'Level', 'asdf_id',\n",
    "                              'loan_amount_usd'\n",
    "                              #'partner_id', 'dist_coast', 'avg_pre',\n",
    "                              #'avg_temp', 'pop_dens', 'conflict_deaths'\n",
    "                                                         ], axis=1)\n",
    "kiva_model.head(3)"
   ]
  },
  {
   "cell_type": "code",
   "execution_count": 5,
   "metadata": {},
   "outputs": [
    {
     "name": "stdout",
     "output_type": "stream",
     "text": [
      "<class 'pandas.core.frame.DataFrame'>\n",
      "RangeIndex: 90044 entries, 0 to 90043\n",
      "Data columns (total 20 columns):\n",
      "sector                90044 non-null object\n",
      "country_code          90044 non-null object\n",
      "region                90044 non-null object\n",
      "partner_id            90044 non-null float64\n",
      "term_in_months        90044 non-null float64\n",
      "lender_count          90044 non-null float64\n",
      "repayment_interval    90044 non-null object\n",
      "year                  90044 non-null float64\n",
      "funded_amount_usd     90044 non-null float64\n",
      "gender                90044 non-null object\n",
      "hv271                 90044 non-null float64\n",
      "avg_pre               90044 non-null float64\n",
      "avg_temp              90044 non-null float64\n",
      "dist_coast            90044 non-null float64\n",
      "pop_dens              90044 non-null float64\n",
      "conflict_deaths       90044 non-null float64\n",
      "nightlite             90044 non-null float64\n",
      "physical_elevation    90044 non-null float64\n",
      "gdp                   90044 non-null float64\n",
      "access_cities         90044 non-null float64\n",
      "dtypes: float64(15), object(5)\n",
      "memory usage: 13.7+ MB\n"
     ]
    }
   ],
   "source": [
    "### Converting partner_id from numeric to object:\n",
    "kiva_model.info()"
   ]
  },
  {
   "cell_type": "code",
   "execution_count": 6,
   "metadata": {},
   "outputs": [],
   "source": [
    "### partner id should be a categorical varialbe:\n",
    "kiva_model['partner_id'] = kiva_model['partner_id'].astype(object)"
   ]
  },
  {
   "cell_type": "code",
   "execution_count": 7,
   "metadata": {},
   "outputs": [
    {
     "data": {
      "text/plain": [
       "Index(['sector', 'country_code', 'region', 'partner_id', 'term_in_months',\n",
       "       'lender_count', 'repayment_interval', 'year', 'funded_amount_usd',\n",
       "       'gender', 'hv271', 'avg_pre', 'avg_temp', 'dist_coast', 'pop_dens',\n",
       "       'conflict_deaths', 'nightlite', 'physical_elevation', 'gdp',\n",
       "       'access_cities'],\n",
       "      dtype='object')"
      ]
     },
     "execution_count": 7,
     "metadata": {},
     "output_type": "execute_result"
    }
   ],
   "source": [
    "kiva_model.columns"
   ]
  },
  {
   "cell_type": "markdown",
   "metadata": {},
   "source": [
    "## 5.1 First - Regression based on individual region (each region is one observation; n=380)"
   ]
  },
  {
   "cell_type": "code",
   "execution_count": 35,
   "metadata": {},
   "outputs": [
    {
     "data": {
      "text/html": [
       "<div>\n",
       "<style scoped>\n",
       "    .dataframe tbody tr th:only-of-type {\n",
       "        vertical-align: middle;\n",
       "    }\n",
       "\n",
       "    .dataframe tbody tr th {\n",
       "        vertical-align: top;\n",
       "    }\n",
       "\n",
       "    .dataframe thead th {\n",
       "        text-align: right;\n",
       "    }\n",
       "</style>\n",
       "<table border=\"1\" class=\"dataframe\">\n",
       "  <thead>\n",
       "    <tr style=\"text-align: right;\">\n",
       "      <th></th>\n",
       "      <th>term_in_months</th>\n",
       "      <th>lender_count</th>\n",
       "      <th>year</th>\n",
       "      <th>funded_amount_usd</th>\n",
       "      <th>hv271</th>\n",
       "      <th>avg_pre</th>\n",
       "      <th>avg_temp</th>\n",
       "      <th>dist_coast</th>\n",
       "      <th>pop_dens</th>\n",
       "      <th>conflict_deaths</th>\n",
       "      <th>nightlite</th>\n",
       "      <th>physical_elevation</th>\n",
       "      <th>gdp</th>\n",
       "      <th>access_cities</th>\n",
       "      <th>sector</th>\n",
       "      <th>country_code</th>\n",
       "      <th>partner_id</th>\n",
       "      <th>repayment_interval</th>\n",
       "      <th>gender</th>\n",
       "    </tr>\n",
       "    <tr>\n",
       "      <th>region</th>\n",
       "      <th></th>\n",
       "      <th></th>\n",
       "      <th></th>\n",
       "      <th></th>\n",
       "      <th></th>\n",
       "      <th></th>\n",
       "      <th></th>\n",
       "      <th></th>\n",
       "      <th></th>\n",
       "      <th></th>\n",
       "      <th></th>\n",
       "      <th></th>\n",
       "      <th></th>\n",
       "      <th></th>\n",
       "      <th></th>\n",
       "      <th></th>\n",
       "      <th></th>\n",
       "      <th></th>\n",
       "      <th></th>\n",
       "    </tr>\n",
       "  </thead>\n",
       "  <tbody>\n",
       "    <tr>\n",
       "      <th>AHERO</th>\n",
       "      <td>12.5</td>\n",
       "      <td>9.500000</td>\n",
       "      <td>2017.000000</td>\n",
       "      <td>2.901061</td>\n",
       "      <td>32972.0</td>\n",
       "      <td>148.403614</td>\n",
       "      <td>22.593334</td>\n",
       "      <td>650122.832539</td>\n",
       "      <td>275.565545</td>\n",
       "      <td>0.0</td>\n",
       "      <td>0.495094</td>\n",
       "      <td>1175.479981</td>\n",
       "      <td>0.184950</td>\n",
       "      <td>26.412179</td>\n",
       "      <td>Transportation</td>\n",
       "      <td>KE</td>\n",
       "      <td>133.0</td>\n",
       "      <td>monthly</td>\n",
       "      <td>male</td>\n",
       "    </tr>\n",
       "    <tr>\n",
       "      <th>APAC</th>\n",
       "      <td>12.0</td>\n",
       "      <td>8.500000</td>\n",
       "      <td>2016.000000</td>\n",
       "      <td>0.120611</td>\n",
       "      <td>-54954.0</td>\n",
       "      <td>115.563147</td>\n",
       "      <td>24.615531</td>\n",
       "      <td>993336.427981</td>\n",
       "      <td>78.974432</td>\n",
       "      <td>0.0</td>\n",
       "      <td>0.311204</td>\n",
       "      <td>1058.148108</td>\n",
       "      <td>0.028010</td>\n",
       "      <td>95.702993</td>\n",
       "      <td>Transportation</td>\n",
       "      <td>UG</td>\n",
       "      <td>222.0</td>\n",
       "      <td>monthly</td>\n",
       "      <td>male</td>\n",
       "    </tr>\n",
       "    <tr>\n",
       "      <th>Abaita Ababiri</th>\n",
       "      <td>14.0</td>\n",
       "      <td>24.642857</td>\n",
       "      <td>2014.714286</td>\n",
       "      <td>0.327104</td>\n",
       "      <td>109429.0</td>\n",
       "      <td>152.414997</td>\n",
       "      <td>23.240448</td>\n",
       "      <td>927067.057323</td>\n",
       "      <td>528.374088</td>\n",
       "      <td>0.0</td>\n",
       "      <td>1.393152</td>\n",
       "      <td>1167.069241</td>\n",
       "      <td>2.703955</td>\n",
       "      <td>23.374605</td>\n",
       "      <td>Retail</td>\n",
       "      <td>UG</td>\n",
       "      <td>65.0</td>\n",
       "      <td>monthly</td>\n",
       "      <td>female</td>\n",
       "    </tr>\n",
       "    <tr>\n",
       "      <th>Aldina, Jomvu</th>\n",
       "      <td>10.0</td>\n",
       "      <td>7.333333</td>\n",
       "      <td>2017.000000</td>\n",
       "      <td>2.417551</td>\n",
       "      <td>63588.0</td>\n",
       "      <td>85.008673</td>\n",
       "      <td>27.194044</td>\n",
       "      <td>5544.499330</td>\n",
       "      <td>3325.450333</td>\n",
       "      <td>0.0</td>\n",
       "      <td>16.420256</td>\n",
       "      <td>41.682850</td>\n",
       "      <td>14.700700</td>\n",
       "      <td>1.742017</td>\n",
       "      <td>Food</td>\n",
       "      <td>KE</td>\n",
       "      <td>133.0</td>\n",
       "      <td>monthly</td>\n",
       "      <td>female</td>\n",
       "    </tr>\n",
       "    <tr>\n",
       "      <th>Aldina,Jomvu</th>\n",
       "      <td>11.0</td>\n",
       "      <td>6.000000</td>\n",
       "      <td>2017.000000</td>\n",
       "      <td>1.450530</td>\n",
       "      <td>63588.0</td>\n",
       "      <td>85.008673</td>\n",
       "      <td>27.194044</td>\n",
       "      <td>5544.499330</td>\n",
       "      <td>3325.450333</td>\n",
       "      <td>0.0</td>\n",
       "      <td>16.420256</td>\n",
       "      <td>41.682850</td>\n",
       "      <td>14.700700</td>\n",
       "      <td>1.742017</td>\n",
       "      <td>Clothing</td>\n",
       "      <td>KE</td>\n",
       "      <td>133.0</td>\n",
       "      <td>monthly</td>\n",
       "      <td>female</td>\n",
       "    </tr>\n",
       "  </tbody>\n",
       "</table>\n",
       "</div>"
      ],
      "text/plain": [
       "                term_in_months  lender_count         year  funded_amount_usd  \\\n",
       "region                                                                         \n",
       "AHERO                     12.5      9.500000  2017.000000           2.901061   \n",
       "APAC                      12.0      8.500000  2016.000000           0.120611   \n",
       "Abaita Ababiri            14.0     24.642857  2014.714286           0.327104   \n",
       "Aldina, Jomvu             10.0      7.333333  2017.000000           2.417551   \n",
       "Aldina,Jomvu              11.0      6.000000  2017.000000           1.450530   \n",
       "\n",
       "                   hv271     avg_pre   avg_temp     dist_coast     pop_dens  \\\n",
       "region                                                                        \n",
       "AHERO            32972.0  148.403614  22.593334  650122.832539   275.565545   \n",
       "APAC            -54954.0  115.563147  24.615531  993336.427981    78.974432   \n",
       "Abaita Ababiri  109429.0  152.414997  23.240448  927067.057323   528.374088   \n",
       "Aldina, Jomvu    63588.0   85.008673  27.194044    5544.499330  3325.450333   \n",
       "Aldina,Jomvu     63588.0   85.008673  27.194044    5544.499330  3325.450333   \n",
       "\n",
       "                conflict_deaths  nightlite  physical_elevation        gdp  \\\n",
       "region                                                                      \n",
       "AHERO                       0.0   0.495094         1175.479981   0.184950   \n",
       "APAC                        0.0   0.311204         1058.148108   0.028010   \n",
       "Abaita Ababiri              0.0   1.393152         1167.069241   2.703955   \n",
       "Aldina, Jomvu               0.0  16.420256           41.682850  14.700700   \n",
       "Aldina,Jomvu                0.0  16.420256           41.682850  14.700700   \n",
       "\n",
       "                access_cities          sector country_code  partner_id  \\\n",
       "region                                                                   \n",
       "AHERO               26.412179  Transportation           KE       133.0   \n",
       "APAC                95.702993  Transportation           UG       222.0   \n",
       "Abaita Ababiri      23.374605          Retail           UG        65.0   \n",
       "Aldina, Jomvu        1.742017            Food           KE       133.0   \n",
       "Aldina,Jomvu         1.742017        Clothing           KE       133.0   \n",
       "\n",
       "               repayment_interval  gender  \n",
       "region                                     \n",
       "AHERO                     monthly    male  \n",
       "APAC                      monthly    male  \n",
       "Abaita Ababiri            monthly  female  \n",
       "Aldina, Jomvu             monthly  female  \n",
       "Aldina,Jomvu              monthly  female  "
      ]
     },
     "execution_count": 35,
     "metadata": {},
     "output_type": "execute_result"
    }
   ],
   "source": [
    "# get the mean for all numeric variables:\n",
    "kiva_regional_num = kiva_model.groupby(\"region\").mean()\n",
    "# get the mode for the categorical variables:\n",
    "## select all the categorical variables:\n",
    "kiva_regional_cat = kiva_model.select_dtypes(include=['object'])\n",
    "## get the mode:\n",
    "kiva_regional_cat = kiva_regional_cat.groupby(\"region\").agg(lambda x:x.value_counts().index[0])\n",
    "## merge them together\n",
    "kiva_regional = pd.merge(kiva_regional_num,\n",
    "                        kiva_regional_cat,\n",
    "                        on='region',\n",
    "                        how='left',\n",
    "                        validate='1:1')\n",
    "kiva_regional.head()"
   ]
  },
  {
   "cell_type": "code",
   "execution_count": 9,
   "metadata": {},
   "outputs": [
    {
     "data": {
      "text/plain": [
       "Index(['AHERO', 'APAC', 'Abaita Ababiri', 'Aldina, Jomvu', 'Aldina,Jomvu',\n",
       "       'Aldina,Jomvu Kenya', 'Aleptong', 'Amuria', 'Arua', 'Arusha',\n",
       "       ...\n",
       "       'Zirobwe', 'Zombo', 'kabale', 'karatina', 'kasambya', 'kibuli',\n",
       "       'kyengera', 'litein', 'malindi', 'nyeri'],\n",
       "      dtype='object', name='region', length=380)"
      ]
     },
     "execution_count": 9,
     "metadata": {},
     "output_type": "execute_result"
    }
   ],
   "source": [
    "kiva_regional.index"
   ]
  },
  {
   "cell_type": "markdown",
   "metadata": {},
   "source": [
    "### Building Preprocessing Pipeline"
   ]
  },
  {
   "cell_type": "code",
   "execution_count": 10,
   "metadata": {},
   "outputs": [],
   "source": [
    "## Split the dataset in train and test:\n",
    "\n",
    "X=kiva_regional.drop('hv271', axis=1)\n",
    "y=kiva_regional['hv271']\n",
    "\n",
    "from sklearn.model_selection import train_test_split\n",
    "\n",
    "X_train, X_test, y_train, y_test = train_test_split(X,y,test_size=0.2, random_state=42)"
   ]
  },
  {
   "cell_type": "code",
   "execution_count": 11,
   "metadata": {},
   "outputs": [],
   "source": [
    "### 1st step - scale the target variable (y) manually:\n",
    "### Take min max scaler in order to ensure that the MPI is between 0 and 1:\n",
    "from sklearn.preprocessing import MinMaxScaler\n",
    "y_train = y_train.to_numpy()\n",
    "y_test = y_test.to_numpy()\n",
    "scaler = MinMaxScaler()\n",
    "scaler.fit(y_train.reshape(-1,1))\n",
    "y_train = scaler.transform(y_train.reshape(-1,1))\n",
    "y_test = scaler.transform(y_test.reshape(-1,1))\n"
   ]
  },
  {
   "cell_type": "code",
   "execution_count": 12,
   "metadata": {
    "scrolled": true
   },
   "outputs": [
    {
     "data": {
      "image/png": "[encoded data removed]",
      "text/plain": [
       "<Figure size 432x288 with 1 Axes>"
      ]
     },
     "metadata": {
      "needs_background": "light"
     },
     "output_type": "display_data"
    }
   ],
   "source": [
    "plt.plot(y_train)\n",
    "plt.show()"
   ]
  },
  {
   "cell_type": "code",
   "execution_count": 13,
   "metadata": {},
   "outputs": [],
   "source": [
    "### Create transformers based on the type of data (numeric vs categorical)\n",
    "from sklearn.pipeline import Pipeline\n",
    "from sklearn.impute import SimpleImputer\n",
    "from sklearn.preprocessing import StandardScaler, OneHotEncoder\n",
    "\n",
    "numeric_transformer = Pipeline(steps=[\n",
    "    #('imputer', SimpleImputer(strategy='median')),\n",
    "    ('sclaer', StandardScaler())])\n",
    "\n",
    "categorical_transformer = Pipeline(steps=[\n",
    "    #('imputer', SimpleImputer(strategy='constant', fill_value='missing')),\n",
    "    ('onehot', OneHotEncoder(handle_unknown='ignore'))])"
   ]
  },
  {
   "cell_type": "code",
   "execution_count": 14,
   "metadata": {},
   "outputs": [],
   "source": [
    "### Splitting into numeric and categorical features:\n",
    "numeric_features = kiva_regional.select_dtypes(include=['int64', 'float64']).drop(['hv271'],axis=1).columns\n",
    "categorical_features = kiva_regional.select_dtypes(include=['object']).columns\n",
    "\n",
    "### Initiate the preprocessing pipeline:\n",
    "from sklearn.compose import ColumnTransformer\n",
    "\n",
    "preprocessor = ColumnTransformer(\n",
    "    transformers=[\n",
    "        ('num', numeric_transformer, numeric_features),\n",
    "        ('cat', categorical_transformer, categorical_features)])\n"
   ]
  },
  {
   "cell_type": "code",
   "execution_count": 15,
   "metadata": {},
   "outputs": [
    {
     "data": {
      "text/plain": [
       "Index(['sector', 'country_code', 'repayment_interval', 'gender'], dtype='object')"
      ]
     },
     "execution_count": 15,
     "metadata": {},
     "output_type": "execute_result"
    }
   ],
   "source": [
    "categorical_features"
   ]
  },
  {
   "cell_type": "markdown",
   "metadata": {},
   "source": [
    "### Building a model selection pipeline:"
   ]
  },
  {
   "cell_type": "code",
   "execution_count": 16,
   "metadata": {},
   "outputs": [],
   "source": [
    "#### Create MAPE as an additional metric:\n",
    "import numpy as np\n",
    "\n",
    "def mean_absolute_percentage_error(y_true, y_pred): \n",
    "    y_true, y_pred = np.array(y_true), np.array(y_pred)\n",
    "    return np.mean(np.abs(((y_true) - (y_pred)) / (y_true))) * 100"
   ]
  },
  {
   "cell_type": "code",
   "execution_count": 17,
   "metadata": {},
   "outputs": [],
   "source": [
    "#### Create relative RMSE:\n",
    "def norm_rmse(y_true, y_pred):\n",
    "    return np.mean(mean_squared_error(y_true, y_pred, squared=False) / (np.mean(y_true)))"
   ]
  },
  {
   "cell_type": "markdown",
   "metadata": {},
   "source": [
    "#### Model selection"
   ]
  },
  {
   "cell_type": "code",
   "execution_count": 18,
   "metadata": {},
   "outputs": [
    {
     "name": "stdout",
     "output_type": "stream",
     "text": [
      "Model: LinearRegression(copy_X=True, fit_intercept=True, n_jobs=None, normalize=False)\n",
      "----------------------\n",
      "Results on Test-Data:\n",
      "n-RMSE: 0.4143 \n",
      "MSE: 0.0440 \n",
      "RMSE: 0.2098 \n",
      "R2: 0.046\n",
      "----------------------\n",
      "Results on Train-Data (overfitting):\n",
      "n-RMSE: 0.4105 \n",
      "MSE: 0.0395 \n",
      "RMSE: 0.1988 \n",
      "R2: 0.291\n",
      "---------------------------------------------------\n",
      "Model: DecisionTreeRegressor(ccp_alpha=0.0, criterion='mse', max_depth=5,\n",
      "                      max_features=None, max_leaf_nodes=None,\n",
      "                      min_impurity_decrease=0.0, min_impurity_split=None,\n",
      "                      min_samples_leaf=1, min_samples_split=2,\n",
      "                      min_weight_fraction_leaf=0.0, presort='deprecated',\n",
      "                      random_state=41, splitter='best')\n",
      "----------------------\n",
      "Results on Test-Data:\n",
      "n-RMSE: 0.3717 \n",
      "MSE: 0.0354 \n",
      "RMSE: 0.1883 \n",
      "R2: 0.232\n",
      "----------------------\n",
      "Results on Train-Data (overfitting):\n",
      "n-RMSE: 0.2825 \n",
      "MSE: 0.0187 \n",
      "RMSE: 0.1368 \n",
      "R2: 0.664\n",
      "---------------------------------------------------\n",
      "Model: RandomForestRegressor(bootstrap=True, ccp_alpha=0.0, criterion='mse',\n",
      "                      max_depth=5, max_features='auto', max_leaf_nodes=None,\n",
      "                      max_samples=None, min_impurity_decrease=0.0,\n",
      "                      min_impurity_split=None, min_samples_leaf=1,\n",
      "                      min_samples_split=2, min_weight_fraction_leaf=0.0,\n",
      "                      n_estimators=100, n_jobs=None, oob_score=False,\n",
      "                      random_state=41, verbose=0, warm_start=False)\n",
      "----------------------\n",
      "Results on Test-Data:\n",
      "n-RMSE: 0.3273 \n",
      "MSE: 0.0275 \n",
      "RMSE: 0.1657 \n",
      "R2: 0.405\n",
      "----------------------\n",
      "Results on Train-Data (overfitting):\n",
      "n-RMSE: 0.2628 \n",
      "MSE: 0.0162 \n",
      "RMSE: 0.1273 \n",
      "R2: 0.709\n",
      "---------------------------------------------------\n",
      "Model: Lasso(alpha=1.0, copy_X=True, fit_intercept=True, max_iter=1000,\n",
      "      normalize=False, positive=False, precompute=False, random_state=41,\n",
      "      selection='cyclic', tol=0.0001, warm_start=False)\n",
      "----------------------\n",
      "Results on Test-Data:\n",
      "n-RMSE: 0.4264 \n",
      "MSE: 0.0466 \n",
      "RMSE: 0.2160 \n",
      "R2: -0.011\n",
      "----------------------\n",
      "Results on Train-Data (overfitting):\n",
      "n-RMSE: 0.4876 \n",
      "MSE: 0.0558 \n",
      "RMSE: 0.2361 \n",
      "R2: 0.000\n",
      "---------------------------------------------------\n",
      "Model: Ridge(alpha=1.0, copy_X=True, fit_intercept=True, max_iter=None,\n",
      "      normalize=False, random_state=None, solver='auto', tol=0.001)\n",
      "----------------------\n",
      "Results on Test-Data:\n",
      "n-RMSE: 0.4032 \n",
      "MSE: 0.0417 \n",
      "RMSE: 0.2042 \n",
      "R2: 0.097\n",
      "----------------------\n",
      "Results on Train-Data (overfitting):\n",
      "n-RMSE: 0.4118 \n",
      "MSE: 0.0398 \n",
      "RMSE: 0.1994 \n",
      "R2: 0.287\n",
      "---------------------------------------------------\n",
      "Model: SVR(C=1.0, cache_size=200, coef0=0.0, degree=3, epsilon=0.1, gamma='scale',\n",
      "    kernel='rbf', max_iter=-1, shrinking=True, tol=0.001, verbose=False)\n",
      "----------------------\n",
      "Results on Test-Data:\n",
      "n-RMSE: 0.3648 \n",
      "MSE: 0.0341 \n",
      "RMSE: 0.1848 \n",
      "R2: 0.260\n",
      "----------------------\n",
      "Results on Train-Data (overfitting):\n",
      "n-RMSE: 0.2873 \n",
      "MSE: 0.0194 \n",
      "RMSE: 0.1392 \n",
      "R2: 0.653\n",
      "---------------------------------------------------\n",
      "Model: AdaBoostRegressor(base_estimator=None, learning_rate=1.0, loss='linear',\n",
      "                  n_estimators=50, random_state=41)\n",
      "----------------------\n",
      "Results on Test-Data:\n",
      "n-RMSE: 0.3373 \n",
      "MSE: 0.0292 \n",
      "RMSE: 0.1708 \n",
      "R2: 0.368\n",
      "----------------------\n",
      "Results on Train-Data (overfitting):\n",
      "n-RMSE: 0.3368 \n",
      "MSE: 0.0266 \n",
      "RMSE: 0.1631 \n",
      "R2: 0.523\n",
      "---------------------------------------------------\n",
      "[18:50:19] WARNING: src/objective/regression_obj.cu:152: reg:linear is now deprecated in favor of reg:squarederror.\n",
      "Model: XGBRegressor(base_score=0.5, booster='gbtree', colsample_bylevel=1,\n",
      "             colsample_bynode=1, colsample_bytree=1, gamma=0,\n",
      "             importance_type='gain', learning_rate=0.1, max_delta_step=0,\n",
      "             max_depth=3, min_child_weight=1, missing=None, n_estimators=100,\n",
      "             n_jobs=1, nthread=None, objective='reg:linear', random_state=41,\n",
      "             reg_alpha=0, reg_lambda=1, scale_pos_weight=1, seed=None,\n",
      "             silent=None, subsample=1, verbosity=1)\n",
      "----------------------\n",
      "Results on Test-Data:\n",
      "n-RMSE: 0.3315 \n",
      "MSE: 0.0282 \n",
      "RMSE: 0.1679 \n",
      "R2: 0.389\n",
      "----------------------\n",
      "Results on Train-Data (overfitting):\n",
      "n-RMSE: 0.1866 \n",
      "MSE: 0.0082 \n",
      "RMSE: 0.0904 \n",
      "R2: 0.854\n",
      "---------------------------------------------------\n"
     ]
    }
   ],
   "source": [
    "#Regression Models:\n",
    "from sklearn.linear_model import LinearRegression\n",
    "from sklearn.tree import DecisionTreeRegressor\n",
    "from sklearn import linear_model\n",
    "from sklearn.ensemble import RandomForestRegressor\n",
    "from sklearn.linear_model import Ridge\n",
    "from sklearn import svm\n",
    "from sklearn.ensemble import AdaBoostRegressor\n",
    "import xgboost as xgb\n",
    "\n",
    "\n",
    "#Metrics\n",
    "from sklearn.metrics import mean_squared_error\n",
    "from sklearn.metrics import r2_score\n",
    "from sklearn.metrics import median_absolute_error\n",
    "\n",
    "#Building the pipeline:\n",
    "## Adding all relevant regression models:\n",
    "regressors = [\n",
    "    LinearRegression(),\n",
    "    DecisionTreeRegressor(max_depth=5, random_state=41),\n",
    "    RandomForestRegressor(max_depth=5, random_state=41),\n",
    "    linear_model.Lasso(alpha=1.0, random_state=41),\n",
    "    Ridge(alpha=1.0),\n",
    "    svm.SVR(), # Support Vector Regression\n",
    "    AdaBoostRegressor(random_state=41),\n",
    "    xgb.XGBRegressor(random_state=41) \n",
    "]\n",
    "\n",
    "#Making predictions:\n",
    "for regressor in regressors:\n",
    "    pipe=Pipeline(steps=[('preprocessor', preprocessor),\n",
    "                        ('regressor', regressor)])\n",
    "    pipe.fit(X_train, np.ravel(y_train))\n",
    "    print('Model: %s' %regressor)\n",
    "    y_pred=pipe.predict(X_test)\n",
    "    print('----------------------')\n",
    "    print('Results on Test-Data:')\n",
    "    print('n-RMSE: %.4f' % norm_rmse(y_test, y_pred), '\\n'\n",
    "          'MSE: %.4f' %  mean_squared_error(y_test, y_pred), '\\n'\n",
    "          'RMSE: %.4f' %  mean_squared_error(y_test, y_pred, squared=False), '\\n'\n",
    "          'R2: %.3f' % r2_score(y_test, y_pred))\n",
    "    print('----------------------')\n",
    "    print('Results on Train-Data (overfitting):')\n",
    "    y_over=pipe.predict(X_train)\n",
    "    print('n-RMSE: %.4f' % norm_rmse(y_train, y_over), '\\n'\n",
    "          'MSE: %.4f' %  mean_squared_error(y_train, y_over), '\\n'\n",
    "          'RMSE: %.4f' %  mean_squared_error(y_train, y_over, squared=False), '\\n'\n",
    "          'R2: %.3f' % r2_score(y_train, y_over))\n",
    "    print('---------------------------------------------------')\n",
    "    "
   ]
  },
  {
   "cell_type": "markdown",
   "metadata": {},
   "source": [
    "**Zielmetric**\n",
    "**MSE**: bisher kann ich nur sagen, dass mein Modell (RF) eine mittlere Abweichung zu den tatsächlichen Werten von 0.03 hat (Zielvariable zw. 0 und 1)\n",
    "1. the predictive values differ on average by 0.17 (RMSE)\n",
    "2. *MAPE: Mean absolute percentage error very high (over 50%)* \n",
    "3. *MAPE regarding the trainging dataset does not have any meaning (values close to 0)*\n",
    "4. normalized RMSE (n-RMSE): RMSE divided by the mean of y: the mean error as a percentage\n",
    "\n",
    "* Evtl. erreichbar durch Sampling weights (Recherche nötig!)"
   ]
  },
  {
   "cell_type": "markdown",
   "metadata": {},
   "source": [
    "### Deeper Look: Regression Tree models:"
   ]
  },
  {
   "cell_type": "markdown",
   "metadata": {},
   "source": [
    "#### Decision Tree Regression:"
   ]
  },
  {
   "cell_type": "code",
   "execution_count": 19,
   "metadata": {},
   "outputs": [
    {
     "name": "stdout",
     "output_type": "stream",
     "text": [
      "Results on Test-Data:\n",
      "Mean squared error: 0.04482 \n",
      "R2: 0.029\n",
      "Results on Train-Data (overfitting):\n",
      "Mean squared error: 0.00817 \n",
      "R2: 0.854\n"
     ]
    }
   ],
   "source": [
    "reg_dt = Pipeline(steps=[('preprocessor', preprocessor),\n",
    "                      ('regressor', DecisionTreeRegressor(random_state=41))])\n",
    "reg_dt.fit(X_train, y_train)\n",
    "y_pred = reg_dt.predict(X_test)\n",
    "print('Results on Test-Data:')\n",
    "print('Mean squared error: %.5f' % mean_squared_error(y_test, y_pred), '\\n'\n",
    "      'R2: %.3f' % r2_score(y_test, y_pred))\n",
    "print('Results on Train-Data (overfitting):')\n",
    "print('Mean squared error: %.5f' % mean_squared_error(y_train, y_over), '\\n'\n",
    "      'R2: %.3f' % r2_score(y_train, y_over))"
   ]
  },
  {
   "cell_type": "markdown",
   "metadata": {},
   "source": [
    "#### Random Forest:"
   ]
  },
  {
   "cell_type": "code",
   "execution_count": 20,
   "metadata": {},
   "outputs": [
    {
     "name": "stdout",
     "output_type": "stream",
     "text": [
      "Results on Test-Data:\n",
      "MSE: 0.02598 \n",
      "RMSE: 0.161 \n",
      "R2: 0.437\n",
      "Results on Train-Data (overfitting):\n",
      "MSE: 0.00817 \n",
      "RMSE: 0.090 \n",
      "R2: 0.854\n"
     ]
    }
   ],
   "source": [
    "rf = Pipeline(steps=[('preprocessor', preprocessor),\n",
    "                      ('regressor', RandomForestRegressor(random_state=41))])\n",
    "rf.fit(X_train, np.ravel(y_train))\n",
    "y_pred = rf.predict(X_test)\n",
    "print('Results on Test-Data:')\n",
    "print('MSE: %.5f' % mean_squared_error(y_test, y_pred), '\\n'\n",
    "      'RMSE: %.3f' % mean_squared_error(y_test, y_pred, squared=False), '\\n'\n",
    "      'R2: %.3f' % r2_score(y_test, y_pred))\n",
    "print('Results on Train-Data (overfitting):')\n",
    "print('MSE: %.5f' % mean_squared_error(y_train, y_over), '\\n'\n",
    "      'RMSE: %.3f' % mean_squared_error(y_train, y_over, squared=False), '\\n'\n",
    "      'R2: %.3f' % r2_score(y_train, y_over))"
   ]
  },
  {
   "cell_type": "code",
   "execution_count": 21,
   "metadata": {},
   "outputs": [
    {
     "name": "stdout",
     "output_type": "stream",
     "text": [
      "Scores:  [0.18036893 0.1957549  0.20273914 0.15991207 0.19095174]\n",
      "Mean:  0.18594535683572544\n",
      "Std:  0.014914091371446147\n"
     ]
    }
   ],
   "source": [
    "from sklearn.model_selection import cross_val_score\n",
    "scores = cross_val_score(rf, X_train, np.ravel(y_train), scoring=\"neg_mean_squared_error\", cv=5) \n",
    "rmse_scores = np.sqrt(-scores)\n",
    "\n",
    "\n",
    "print('Scores: ', rmse_scores)\n",
    "print('Mean: ', rmse_scores.mean())\n",
    "print('Std: ', rmse_scores.std())"
   ]
  },
  {
   "cell_type": "markdown",
   "metadata": {},
   "source": [
    "#### Ada Regression:"
   ]
  },
  {
   "cell_type": "code",
   "execution_count": 22,
   "metadata": {},
   "outputs": [
    {
     "name": "stdout",
     "output_type": "stream",
     "text": [
      "Results on Test-Data:\n",
      "Mean squared error: 0.02918 \n",
      "R2: 0.368\n",
      "Results on Train-Data (overfitting):\n",
      "Mean squared error: 0.00817 \n",
      "R2: 0.854\n"
     ]
    }
   ],
   "source": [
    "ada = Pipeline(steps=[('preprocessor', preprocessor),\n",
    "                      ('regressor', AdaBoostRegressor(random_state=41)),\n",
    "                    ])\n",
    "ada.fit(X_train, np.ravel(y_train))\n",
    "y_pred = ada.predict(X_test)\n",
    "print('Results on Test-Data:')\n",
    "print('Mean squared error: %.5f' % mean_squared_error(y_test, y_pred), '\\n'\n",
    "      'R2: %.3f' % r2_score(y_test, y_pred))\n",
    "print('Results on Train-Data (overfitting):')\n",
    "print('Mean squared error: %.5f' % mean_squared_error(y_train, y_over), '\\n'\n",
    "      'R2: %.3f' % r2_score(y_train, y_over))"
   ]
  },
  {
   "cell_type": "markdown",
   "metadata": {},
   "source": [
    "#### XBG Regression:"
   ]
  },
  {
   "cell_type": "code",
   "execution_count": 23,
   "metadata": {},
   "outputs": [
    {
     "name": "stdout",
     "output_type": "stream",
     "text": [
      "[18:50:20] WARNING: src/objective/regression_obj.cu:152: reg:linear is now deprecated in favor of reg:squarederror.\n",
      "Results on Test-Data:\n",
      "Mean squared error: 0.02819 \n",
      "R2: 0.389\n",
      "Results on Train-Data (overfitting):\n",
      "Mean squared error: 0.00817 \n",
      "R2: 0.854\n"
     ]
    }
   ],
   "source": [
    "xgb = Pipeline(steps=[('preprocessor', preprocessor),\n",
    "                      ('regressor', xgb.XGBRegressor(random_state=41))])\n",
    "                       \n",
    "xgb.fit(X_train, np.ravel(y_train))\n",
    "y_pred = xgb.predict(X_test)\n",
    "print('Results on Test-Data:')\n",
    "print('Mean squared error: %.5f' % mean_squared_error(y_test, y_pred), '\\n'\n",
    "      'R2: %.3f' % r2_score(y_test, y_pred))\n",
    "print('Results on Train-Data (overfitting):')\n",
    "print('Mean squared error: %.5f' % mean_squared_error(y_train, y_over), '\\n'\n",
    "      'R2: %.3f' % r2_score(y_train, y_over))                                        "
   ]
  },
  {
   "cell_type": "markdown",
   "metadata": {},
   "source": [
    "#### Hyperparameter tuning:"
   ]
  },
  {
   "cell_type": "markdown",
   "metadata": {},
   "source": [
    "The metric of choice is the Mean absolute percentage Error (**MAPE**). The function is created above the Model selection pipeline.\n",
    "Sklearn does not support this metric, so it is neccessary to write an own scorer"
   ]
  },
  {
   "cell_type": "code",
   "execution_count": 24,
   "metadata": {},
   "outputs": [],
   "source": [
    "## As a remainder, the function for MAPE:\n",
    "def mean_absolute_percentage_error(y_true, y_pred): \n",
    "    y_true, y_pred = np.array(y_true), np.array(y_pred)\n",
    "    return np.mean(np.abs((y_true - y_pred) / y_true)) * 100\n",
    "## Create a scorer for GridSearchCV:\n",
    "from sklearn.metrics import make_scorer\n",
    "mean_abs_perc_scorer = make_scorer(mean_absolute_percentage_error, greater_is_better=False)"
   ]
  },
  {
   "cell_type": "code",
   "execution_count": 25,
   "metadata": {},
   "outputs": [],
   "source": [
    "### Creating a scorer for the normalized RMSE:\n",
    "## Remainder, function of RMSE:\n",
    "def norm_rmse(y_true, y_pred):\n",
    "    return np.mean(mean_squared_error(y_true, y_pred, squared=False) / (np.mean(y_true)))\n",
    "## Create a scorer for GridSearchCV:\n",
    "from sklearn.metrics import make_scorer\n",
    "norm_rmse_scorer = make_scorer(norm_rmse, greater_is_better=False)"
   ]
  },
  {
   "cell_type": "code",
   "execution_count": 26,
   "metadata": {},
   "outputs": [
    {
     "name": "stdout",
     "output_type": "stream",
     "text": [
      "{'regressor__max_depth': 1, 'regressor__max_features': 'auto'}\n",
      "-0.43717584106032575\n"
     ]
    }
   ],
   "source": [
    "from sklearn.model_selection import GridSearchCV\n",
    "### Decision Tree Regression:\n",
    "param_grid = { \n",
    "    'regressor__max_features': ['auto', 'sqrt', 'log2'],\n",
    "    'regressor__max_depth' : [1,2,3,4,5]}\n",
    "\n",
    "CV = GridSearchCV(reg_dt, param_grid, n_jobs= 1, cv=2, scoring=norm_rmse_scorer)\n",
    "                  \n",
    "CV.fit(X_train, np.ravel(y_train))  \n",
    "print(CV.best_params_)    \n",
    "print(CV.best_score_)"
   ]
  },
  {
   "cell_type": "code",
   "execution_count": 27,
   "metadata": {},
   "outputs": [
    {
     "name": "stdout",
     "output_type": "stream",
     "text": [
      "Fitting 2 folds for each of 147 candidates, totalling 294 fits\n"
     ]
    },
    {
     "name": "stderr",
     "output_type": "stream",
     "text": [
      "[Parallel(n_jobs=1)]: Using backend SequentialBackend with 1 concurrent workers.\n"
     ]
    },
    {
     "name": "stdout",
     "output_type": "stream",
     "text": [
      "{'regressor__max_depth': 12, 'regressor__max_features': 'log2', 'regressor__n_estimators': 150}\n",
      "-0.40323648347787694\n"
     ]
    },
    {
     "name": "stderr",
     "output_type": "stream",
     "text": [
      "[Parallel(n_jobs=1)]: Done 294 out of 294 | elapsed:  1.0min finished\n"
     ]
    }
   ],
   "source": [
    "### Random Forest:\n",
    "### Grid Search on MSE:\n",
    "param_grid = { \n",
    "    'regressor__n_estimators': [75, 100, 150, 200, 250, 300, 350],\n",
    "    'regressor__max_features': ['auto', 'sqrt', 'log2'],\n",
    "    'regressor__max_depth' : [8,9,10,11,12,13,14]}\n",
    "\n",
    "\n",
    "CV = GridSearchCV(rf, param_grid, n_jobs= 1, cv=2, verbose=1, scoring=norm_rmse_scorer)\n",
    "                  \n",
    "CV.fit(X_train, np.ravel(y_train))  \n",
    "print(CV.best_params_)    \n",
    "print(CV.best_score_)"
   ]
  },
  {
   "cell_type": "code",
   "execution_count": 28,
   "metadata": {},
   "outputs": [
    {
     "name": "stderr",
     "output_type": "stream",
     "text": [
      "[Parallel(n_jobs=1)]: Using backend SequentialBackend with 1 concurrent workers.\n"
     ]
    },
    {
     "name": "stdout",
     "output_type": "stream",
     "text": [
      "Fitting 2 folds for each of 105 candidates, totalling 210 fits\n",
      "{'regressor__learning_rate': 0.3, 'regressor__loss': 'linear', 'regressor__n_estimators': 50}\n",
      "-0.4039277844514204\n"
     ]
    },
    {
     "name": "stderr",
     "output_type": "stream",
     "text": [
      "[Parallel(n_jobs=1)]: Done 210 out of 210 | elapsed:   15.7s finished\n"
     ]
    }
   ],
   "source": [
    "### ADA Regression:\n",
    "param_grid = {\n",
    "    'regressor__n_estimators': [10,20,40,50, 100],\n",
    "    'regressor__learning_rate' : [0.0001, 0.001, 0.01,0.05,0.1,0.3,1],\n",
    "    'regressor__loss' : ['linear', 'square', 'exponential']\n",
    " }\n",
    "\n",
    "CV = GridSearchCV(ada, param_grid, verbose=1, cv=2, scoring=norm_rmse_scorer)\n",
    "                  \n",
    "CV.fit(X_train, np.ravel(y_train))  \n",
    "print(CV.best_params_)    \n",
    "print(CV.best_score_)"
   ]
  },
  {
   "cell_type": "code",
   "execution_count": 29,
   "metadata": {
    "collapsed": true
   },
   "outputs": [
    {
     "name": "stdout",
     "output_type": "stream",
     "text": [
      "[18:51:37] WARNING: src/objective/regression_obj.cu:152: reg:linear is now deprecated in favor of reg:squarederror.\n",
      "[18:51:37] WARNING: src/objective/regression_obj.cu:152: reg:linear is now deprecated in favor of reg:squarederror.\n",
      "[18:51:37] WARNING: src/objective/regression_obj.cu:152: reg:linear is now deprecated in favor of reg:squarederror.\n",
      "[18:51:37] WARNING: src/objective/regression_obj.cu:152: reg:linear is now deprecated in favor of reg:squarederror.\n",
      "[18:51:37] WARNING: src/objective/regression_obj.cu:152: reg:linear is now deprecated in favor of reg:squarederror.\n",
      "[18:51:37] WARNING: src/objective/regression_obj.cu:152: reg:linear is now deprecated in favor of reg:squarederror.\n",
      "[18:51:37] WARNING: src/objective/regression_obj.cu:152: reg:linear is now deprecated in favor of reg:squarederror.\n",
      "[18:51:37] WARNING: src/objective/regression_obj.cu:152: reg:linear is now deprecated in favor of reg:squarederror.\n",
      "[18:51:37] WARNING: src/objective/regression_obj.cu:152: reg:linear is now deprecated in favor of reg:squarederror.\n",
      "[18:51:37] WARNING: src/objective/regression_obj.cu:152: reg:linear is now deprecated in favor of reg:squarederror.\n",
      "[18:51:37] WARNING: src/objective/regression_obj.cu:152: reg:linear is now deprecated in favor of reg:squarederror.\n",
      "[18:51:38] WARNING: src/objective/regression_obj.cu:152: reg:linear is now deprecated in favor of reg:squarederror.\n",
      "[18:51:38] WARNING: src/objective/regression_obj.cu:152: reg:linear is now deprecated in favor of reg:squarederror.\n",
      "[18:51:38] WARNING: src/objective/regression_obj.cu:152: reg:linear is now deprecated in favor of reg:squarederror.\n",
      "[18:51:38] WARNING: src/objective/regression_obj.cu:152: reg:linear is now deprecated in favor of reg:squarederror.\n",
      "[18:51:38] WARNING: src/objective/regression_obj.cu:152: reg:linear is now deprecated in favor of reg:squarederror.\n",
      "[18:51:38] WARNING: src/objective/regression_obj.cu:152: reg:linear is now deprecated in favor of reg:squarederror.\n",
      "[18:51:38] WARNING: src/objective/regression_obj.cu:152: reg:linear is now deprecated in favor of reg:squarederror.\n",
      "[18:51:38] WARNING: src/objective/regression_obj.cu:152: reg:linear is now deprecated in favor of reg:squarederror.\n",
      "[18:51:38] WARNING: src/objective/regression_obj.cu:152: reg:linear is now deprecated in favor of reg:squarederror.\n",
      "[18:51:38] WARNING: src/objective/regression_obj.cu:152: reg:linear is now deprecated in favor of reg:squarederror.\n",
      "[18:51:38] WARNING: src/objective/regression_obj.cu:152: reg:linear is now deprecated in favor of reg:squarederror.\n",
      "[18:51:38] WARNING: src/objective/regression_obj.cu:152: reg:linear is now deprecated in favor of reg:squarederror.\n",
      "[18:51:38] WARNING: src/objective/regression_obj.cu:152: reg:linear is now deprecated in favor of reg:squarederror.\n",
      "[18:51:38] WARNING: src/objective/regression_obj.cu:152: reg:linear is now deprecated in favor of reg:squarederror.\n",
      "[18:51:38] WARNING: src/objective/regression_obj.cu:152: reg:linear is now deprecated in favor of reg:squarederror.\n",
      "[18:51:39] WARNING: src/objective/regression_obj.cu:152: reg:linear is now deprecated in favor of reg:squarederror.\n",
      "[18:51:39] WARNING: src/objective/regression_obj.cu:152: reg:linear is now deprecated in favor of reg:squarederror.\n",
      "[18:51:39] WARNING: src/objective/regression_obj.cu:152: reg:linear is now deprecated in favor of reg:squarederror.\n",
      "[18:51:39] WARNING: src/objective/regression_obj.cu:152: reg:linear is now deprecated in favor of reg:squarederror.\n",
      "[18:51:39] WARNING: src/objective/regression_obj.cu:152: reg:linear is now deprecated in favor of reg:squarederror.\n",
      "[18:51:39] WARNING: src/objective/regression_obj.cu:152: reg:linear is now deprecated in favor of reg:squarederror.\n",
      "[18:51:39] WARNING: src/objective/regression_obj.cu:152: reg:linear is now deprecated in favor of reg:squarederror.\n",
      "[18:51:39] WARNING: src/objective/regression_obj.cu:152: reg:linear is now deprecated in favor of reg:squarederror.\n",
      "[18:51:39] WARNING: src/objective/regression_obj.cu:152: reg:linear is now deprecated in favor of reg:squarederror.\n",
      "[18:51:39] WARNING: src/objective/regression_obj.cu:152: reg:linear is now deprecated in favor of reg:squarederror.\n",
      "[18:51:39] WARNING: src/objective/regression_obj.cu:152: reg:linear is now deprecated in favor of reg:squarederror.\n",
      "[18:51:39] WARNING: src/objective/regression_obj.cu:152: reg:linear is now deprecated in favor of reg:squarederror.\n",
      "[18:51:39] WARNING: src/objective/regression_obj.cu:152: reg:linear is now deprecated in favor of reg:squarederror.\n",
      "[18:51:39] WARNING: src/objective/regression_obj.cu:152: reg:linear is now deprecated in favor of reg:squarederror.\n",
      "[18:51:39] WARNING: src/objective/regression_obj.cu:152: reg:linear is now deprecated in favor of reg:squarederror.\n",
      "[18:51:40] WARNING: src/objective/regression_obj.cu:152: reg:linear is now deprecated in favor of reg:squarederror.\n",
      "[18:51:40] WARNING: src/objective/regression_obj.cu:152: reg:linear is now deprecated in favor of reg:squarederror.\n",
      "[18:51:40] WARNING: src/objective/regression_obj.cu:152: reg:linear is now deprecated in favor of reg:squarederror.\n",
      "[18:51:40] WARNING: src/objective/regression_obj.cu:152: reg:linear is now deprecated in favor of reg:squarederror.\n",
      "[18:51:40] WARNING: src/objective/regression_obj.cu:152: reg:linear is now deprecated in favor of reg:squarederror.\n",
      "[18:51:40] WARNING: src/objective/regression_obj.cu:152: reg:linear is now deprecated in favor of reg:squarederror.\n",
      "[18:51:40] WARNING: src/objective/regression_obj.cu:152: reg:linear is now deprecated in favor of reg:squarederror.\n",
      "[18:51:40] WARNING: src/objective/regression_obj.cu:152: reg:linear is now deprecated in favor of reg:squarederror.\n",
      "[18:51:40] WARNING: src/objective/regression_obj.cu:152: reg:linear is now deprecated in favor of reg:squarederror.\n",
      "[18:51:40] WARNING: src/objective/regression_obj.cu:152: reg:linear is now deprecated in favor of reg:squarederror.\n",
      "[18:51:40] WARNING: src/objective/regression_obj.cu:152: reg:linear is now deprecated in favor of reg:squarederror.\n",
      "[18:51:40] WARNING: src/objective/regression_obj.cu:152: reg:linear is now deprecated in favor of reg:squarederror.\n",
      "[18:51:40] WARNING: src/objective/regression_obj.cu:152: reg:linear is now deprecated in favor of reg:squarederror.\n",
      "[18:51:40] WARNING: src/objective/regression_obj.cu:152: reg:linear is now deprecated in favor of reg:squarederror.\n",
      "[18:51:40] WARNING: src/objective/regression_obj.cu:152: reg:linear is now deprecated in favor of reg:squarederror.\n",
      "[18:51:41] WARNING: src/objective/regression_obj.cu:152: reg:linear is now deprecated in favor of reg:squarederror.\n",
      "[18:51:41] WARNING: src/objective/regression_obj.cu:152: reg:linear is now deprecated in favor of reg:squarederror.\n",
      "[18:51:41] WARNING: src/objective/regression_obj.cu:152: reg:linear is now deprecated in favor of reg:squarederror.\n",
      "[18:51:41] WARNING: src/objective/regression_obj.cu:152: reg:linear is now deprecated in favor of reg:squarederror.\n",
      "[18:51:41] WARNING: src/objective/regression_obj.cu:152: reg:linear is now deprecated in favor of reg:squarederror.\n",
      "[18:51:41] WARNING: src/objective/regression_obj.cu:152: reg:linear is now deprecated in favor of reg:squarederror.\n",
      "[18:51:41] WARNING: src/objective/regression_obj.cu:152: reg:linear is now deprecated in favor of reg:squarederror.\n",
      "[18:51:41] WARNING: src/objective/regression_obj.cu:152: reg:linear is now deprecated in favor of reg:squarederror.\n",
      "[18:51:41] WARNING: src/objective/regression_obj.cu:152: reg:linear is now deprecated in favor of reg:squarederror.\n",
      "[18:51:41] WARNING: src/objective/regression_obj.cu:152: reg:linear is now deprecated in favor of reg:squarederror.\n",
      "[18:51:41] WARNING: src/objective/regression_obj.cu:152: reg:linear is now deprecated in favor of reg:squarederror.\n",
      "[18:51:41] WARNING: src/objective/regression_obj.cu:152: reg:linear is now deprecated in favor of reg:squarederror.\n",
      "[18:51:41] WARNING: src/objective/regression_obj.cu:152: reg:linear is now deprecated in favor of reg:squarederror.\n",
      "[18:51:41] WARNING: src/objective/regression_obj.cu:152: reg:linear is now deprecated in favor of reg:squarederror.\n",
      "[18:51:41] WARNING: src/objective/regression_obj.cu:152: reg:linear is now deprecated in favor of reg:squarederror.\n",
      "[18:51:41] WARNING: src/objective/regression_obj.cu:152: reg:linear is now deprecated in favor of reg:squarederror.\n",
      "[18:51:42] WARNING: src/objective/regression_obj.cu:152: reg:linear is now deprecated in favor of reg:squarederror.\n",
      "[18:51:42] WARNING: src/objective/regression_obj.cu:152: reg:linear is now deprecated in favor of reg:squarederror.\n"
     ]
    },
    {
     "name": "stdout",
     "output_type": "stream",
     "text": [
      "[18:51:42] WARNING: src/objective/regression_obj.cu:152: reg:linear is now deprecated in favor of reg:squarederror.\n",
      "[18:51:42] WARNING: src/objective/regression_obj.cu:152: reg:linear is now deprecated in favor of reg:squarederror.\n",
      "[18:51:42] WARNING: src/objective/regression_obj.cu:152: reg:linear is now deprecated in favor of reg:squarederror.\n",
      "[18:51:42] WARNING: src/objective/regression_obj.cu:152: reg:linear is now deprecated in favor of reg:squarederror.\n",
      "[18:51:42] WARNING: src/objective/regression_obj.cu:152: reg:linear is now deprecated in favor of reg:squarederror.\n",
      "[18:51:42] WARNING: src/objective/regression_obj.cu:152: reg:linear is now deprecated in favor of reg:squarederror.\n",
      "[18:51:42] WARNING: src/objective/regression_obj.cu:152: reg:linear is now deprecated in favor of reg:squarederror.\n",
      "[18:51:42] WARNING: src/objective/regression_obj.cu:152: reg:linear is now deprecated in favor of reg:squarederror.\n",
      "[18:51:42] WARNING: src/objective/regression_obj.cu:152: reg:linear is now deprecated in favor of reg:squarederror.\n",
      "[18:51:42] WARNING: src/objective/regression_obj.cu:152: reg:linear is now deprecated in favor of reg:squarederror.\n",
      "[18:51:42] WARNING: src/objective/regression_obj.cu:152: reg:linear is now deprecated in favor of reg:squarederror.\n",
      "[18:51:42] WARNING: src/objective/regression_obj.cu:152: reg:linear is now deprecated in favor of reg:squarederror.\n",
      "[18:51:42] WARNING: src/objective/regression_obj.cu:152: reg:linear is now deprecated in favor of reg:squarederror.\n",
      "[18:51:42] WARNING: src/objective/regression_obj.cu:152: reg:linear is now deprecated in favor of reg:squarederror.\n",
      "[18:51:43] WARNING: src/objective/regression_obj.cu:152: reg:linear is now deprecated in favor of reg:squarederror.\n",
      "[18:51:43] WARNING: src/objective/regression_obj.cu:152: reg:linear is now deprecated in favor of reg:squarederror.\n",
      "[18:51:43] WARNING: src/objective/regression_obj.cu:152: reg:linear is now deprecated in favor of reg:squarederror.\n",
      "[18:51:43] WARNING: src/objective/regression_obj.cu:152: reg:linear is now deprecated in favor of reg:squarederror.\n",
      "[18:51:43] WARNING: src/objective/regression_obj.cu:152: reg:linear is now deprecated in favor of reg:squarederror.\n",
      "[18:51:43] WARNING: src/objective/regression_obj.cu:152: reg:linear is now deprecated in favor of reg:squarederror.\n",
      "[18:51:43] WARNING: src/objective/regression_obj.cu:152: reg:linear is now deprecated in favor of reg:squarederror.\n",
      "[18:51:43] WARNING: src/objective/regression_obj.cu:152: reg:linear is now deprecated in favor of reg:squarederror.\n",
      "[18:51:43] WARNING: src/objective/regression_obj.cu:152: reg:linear is now deprecated in favor of reg:squarederror.\n",
      "[18:51:43] WARNING: src/objective/regression_obj.cu:152: reg:linear is now deprecated in favor of reg:squarederror.\n",
      "[18:51:43] WARNING: src/objective/regression_obj.cu:152: reg:linear is now deprecated in favor of reg:squarederror.\n",
      "[18:51:43] WARNING: src/objective/regression_obj.cu:152: reg:linear is now deprecated in favor of reg:squarederror.\n",
      "[18:51:43] WARNING: src/objective/regression_obj.cu:152: reg:linear is now deprecated in favor of reg:squarederror.\n",
      "[18:51:43] WARNING: src/objective/regression_obj.cu:152: reg:linear is now deprecated in favor of reg:squarederror.\n",
      "[18:51:43] WARNING: src/objective/regression_obj.cu:152: reg:linear is now deprecated in favor of reg:squarederror.\n",
      "[18:51:43] WARNING: src/objective/regression_obj.cu:152: reg:linear is now deprecated in favor of reg:squarederror.\n",
      "[18:51:44] WARNING: src/objective/regression_obj.cu:152: reg:linear is now deprecated in favor of reg:squarederror.\n",
      "[18:51:44] WARNING: src/objective/regression_obj.cu:152: reg:linear is now deprecated in favor of reg:squarederror.\n",
      "[18:51:44] WARNING: src/objective/regression_obj.cu:152: reg:linear is now deprecated in favor of reg:squarederror.\n",
      "[18:51:44] WARNING: src/objective/regression_obj.cu:152: reg:linear is now deprecated in favor of reg:squarederror.\n",
      "[18:51:44] WARNING: src/objective/regression_obj.cu:152: reg:linear is now deprecated in favor of reg:squarederror.\n",
      "[18:51:44] WARNING: src/objective/regression_obj.cu:152: reg:linear is now deprecated in favor of reg:squarederror.\n",
      "[18:51:44] WARNING: src/objective/regression_obj.cu:152: reg:linear is now deprecated in favor of reg:squarederror.\n",
      "[18:51:44] WARNING: src/objective/regression_obj.cu:152: reg:linear is now deprecated in favor of reg:squarederror.\n",
      "[18:51:44] WARNING: src/objective/regression_obj.cu:152: reg:linear is now deprecated in favor of reg:squarederror.\n",
      "[18:51:44] WARNING: src/objective/regression_obj.cu:152: reg:linear is now deprecated in favor of reg:squarederror.\n",
      "[18:51:44] WARNING: src/objective/regression_obj.cu:152: reg:linear is now deprecated in favor of reg:squarederror.\n",
      "[18:51:44] WARNING: src/objective/regression_obj.cu:152: reg:linear is now deprecated in favor of reg:squarederror.\n",
      "[18:51:44] WARNING: src/objective/regression_obj.cu:152: reg:linear is now deprecated in favor of reg:squarederror.\n",
      "[18:51:44] WARNING: src/objective/regression_obj.cu:152: reg:linear is now deprecated in favor of reg:squarederror.\n",
      "[18:51:44] WARNING: src/objective/regression_obj.cu:152: reg:linear is now deprecated in favor of reg:squarederror.\n",
      "[18:51:44] WARNING: src/objective/regression_obj.cu:152: reg:linear is now deprecated in favor of reg:squarederror.\n",
      "[18:51:45] WARNING: src/objective/regression_obj.cu:152: reg:linear is now deprecated in favor of reg:squarederror.\n",
      "[18:51:45] WARNING: src/objective/regression_obj.cu:152: reg:linear is now deprecated in favor of reg:squarederror.\n",
      "[18:51:45] WARNING: src/objective/regression_obj.cu:152: reg:linear is now deprecated in favor of reg:squarederror.\n",
      "[18:51:45] WARNING: src/objective/regression_obj.cu:152: reg:linear is now deprecated in favor of reg:squarederror.\n",
      "[18:51:45] WARNING: src/objective/regression_obj.cu:152: reg:linear is now deprecated in favor of reg:squarederror.\n",
      "[18:51:45] WARNING: src/objective/regression_obj.cu:152: reg:linear is now deprecated in favor of reg:squarederror.\n",
      "[18:51:45] WARNING: src/objective/regression_obj.cu:152: reg:linear is now deprecated in favor of reg:squarederror.\n",
      "[18:51:45] WARNING: src/objective/regression_obj.cu:152: reg:linear is now deprecated in favor of reg:squarederror.\n",
      "[18:51:45] WARNING: src/objective/regression_obj.cu:152: reg:linear is now deprecated in favor of reg:squarederror.\n",
      "[18:51:45] WARNING: src/objective/regression_obj.cu:152: reg:linear is now deprecated in favor of reg:squarederror.\n",
      "[18:51:45] WARNING: src/objective/regression_obj.cu:152: reg:linear is now deprecated in favor of reg:squarederror.\n",
      "[18:51:45] WARNING: src/objective/regression_obj.cu:152: reg:linear is now deprecated in favor of reg:squarederror.\n",
      "[18:51:45] WARNING: src/objective/regression_obj.cu:152: reg:linear is now deprecated in favor of reg:squarederror.\n",
      "[18:51:45] WARNING: src/objective/regression_obj.cu:152: reg:linear is now deprecated in favor of reg:squarederror.\n",
      "[18:51:45] WARNING: src/objective/regression_obj.cu:152: reg:linear is now deprecated in favor of reg:squarederror.\n",
      "[18:51:45] WARNING: src/objective/regression_obj.cu:152: reg:linear is now deprecated in favor of reg:squarederror.\n",
      "[18:51:45] WARNING: src/objective/regression_obj.cu:152: reg:linear is now deprecated in favor of reg:squarederror.\n",
      "[18:51:46] WARNING: src/objective/regression_obj.cu:152: reg:linear is now deprecated in favor of reg:squarederror.\n",
      "[18:51:46] WARNING: src/objective/regression_obj.cu:152: reg:linear is now deprecated in favor of reg:squarederror.\n",
      "[18:51:46] WARNING: src/objective/regression_obj.cu:152: reg:linear is now deprecated in favor of reg:squarederror.\n",
      "[18:51:46] WARNING: src/objective/regression_obj.cu:152: reg:linear is now deprecated in favor of reg:squarederror.\n",
      "[18:51:46] WARNING: src/objective/regression_obj.cu:152: reg:linear is now deprecated in favor of reg:squarederror.\n",
      "[18:51:46] WARNING: src/objective/regression_obj.cu:152: reg:linear is now deprecated in favor of reg:squarederror.\n",
      "[18:51:46] WARNING: src/objective/regression_obj.cu:152: reg:linear is now deprecated in favor of reg:squarederror.\n",
      "[18:51:46] WARNING: src/objective/regression_obj.cu:152: reg:linear is now deprecated in favor of reg:squarederror.\n",
      "{'regressor__learning_rate': 0.05, 'regressor__loss': 'linear', 'regressor__n_estimators': 100}\n",
      "-0.41362297676228255\n"
     ]
    }
   ],
   "source": [
    "### XGB Regression:\n",
    "param_grid = {\n",
    "    'regressor__n_estimators': [50, 100,125,150],\n",
    "    'regressor__learning_rate' : [0.001,0.01,0.05,0.1,0.3,1],\n",
    "    'regressor__loss' : ['linear', 'square', 'exponential']\n",
    " }\n",
    "\n",
    "CV = GridSearchCV(xgb, param_grid, n_jobs= 1, cv=2, scoring=norm_rmse_scorer)\n",
    "                  \n",
    "CV.fit(X_train, np.ravel(y_train))  \n",
    "print(CV.best_params_)    \n",
    "print(CV.best_score_)"
   ]
  },
  {
   "cell_type": "markdown",
   "metadata": {},
   "source": [
    "**---------------------------------------------------------------------------------**"
   ]
  },
  {
   "cell_type": "markdown",
   "metadata": {},
   "source": [
    "### Fitting Random Forest Regression:"
   ]
  },
  {
   "cell_type": "code",
   "execution_count": 30,
   "metadata": {},
   "outputs": [],
   "source": [
    "## Fitting a Decision Tree Regressor:\n",
    "from sklearn.ensemble import RandomForestRegressor\n",
    "rf_reg = Pipeline(steps=[('preprocesser', preprocessor),\n",
    "                     ('regression', RandomForestRegressor(max_depth=10, random_state=41))])"
   ]
  },
  {
   "cell_type": "code",
   "execution_count": 31,
   "metadata": {},
   "outputs": [
    {
     "name": "stderr",
     "output_type": "stream",
     "text": [
      "/opt/anaconda3/envs/nf/lib/python3.6/site-packages/sklearn/pipeline.py:354: DataConversionWarning: A column-vector y was passed when a 1d array was expected. Please change the shape of y to (n_samples,), for example using ravel().\n",
      "  self._final_estimator.fit(Xt, y, **fit_params)\n"
     ]
    },
    {
     "data": {
      "text/plain": [
       "Pipeline(memory=None,\n",
       "         steps=[('preprocesser',\n",
       "                 ColumnTransformer(n_jobs=None, remainder='drop',\n",
       "                                   sparse_threshold=0.3,\n",
       "                                   transformer_weights=None,\n",
       "                                   transformers=[('num',\n",
       "                                                  Pipeline(memory=None,\n",
       "                                                           steps=[('sclaer',\n",
       "                                                                   StandardScaler(copy=True,\n",
       "                                                                                  with_mean=True,\n",
       "                                                                                  with_std=True))],\n",
       "                                                           verbose=False),\n",
       "                                                  Index(['term_in_months', 'lender_count', 'year', 'funded_amount_usd',\n",
       "       'avg_pre', 'avg_t...\n",
       "                 RandomForestRegressor(bootstrap=True, ccp_alpha=0.0,\n",
       "                                       criterion='mse', max_depth=10,\n",
       "                                       max_features='auto', max_leaf_nodes=None,\n",
       "                                       max_samples=None,\n",
       "                                       min_impurity_decrease=0.0,\n",
       "                                       min_impurity_split=None,\n",
       "                                       min_samples_leaf=1, min_samples_split=2,\n",
       "                                       min_weight_fraction_leaf=0.0,\n",
       "                                       n_estimators=100, n_jobs=None,\n",
       "                                       oob_score=False, random_state=41,\n",
       "                                       verbose=0, warm_start=False))],\n",
       "         verbose=False)"
      ]
     },
     "execution_count": 31,
     "metadata": {},
     "output_type": "execute_result"
    }
   ],
   "source": [
    "rf_reg.fit(X_train, y_train)"
   ]
  },
  {
   "cell_type": "code",
   "execution_count": 32,
   "metadata": {},
   "outputs": [
    {
     "name": "stdout",
     "output_type": "stream",
     "text": [
      "Mean squared error: 0.02600 \n",
      "Median absolute error: 0.104154 \n",
      "R2: 0.437\n"
     ]
    }
   ],
   "source": [
    "y_pred = rf_reg.predict(X_test)\n",
    "print('Mean squared error: %.5f' % mean_squared_error(y_test, y_pred), '\\n'\n",
    "      'Median absolute error: %5f' %median_absolute_error(y_test,y_pred), '\\n'\n",
    "      'R2: %.3f' %r2_score(y_test, y_pred)#, '\\n'\n",
    "      #'Parameters: %' %dt_reg.get_params()\n",
    "     )"
   ]
  },
  {
   "cell_type": "code",
   "execution_count": 33,
   "metadata": {},
   "outputs": [],
   "source": [
    "##### Getting column names after preprocessing step (in pipeline):\n",
    "onehot_columns = list(rf_reg.named_steps['preprocesser'].named_transformers_['cat'].named_steps['onehot'].get_feature_names(input_features=categorical_features))\n",
    "numeric_features_list = list(numeric_features)\n",
    "numeric_features_list.extend(onehot_columns)"
   ]
  },
  {
   "cell_type": "code",
   "execution_count": 34,
   "metadata": {},
   "outputs": [
    {
     "data": {
      "image/png": "[encoded data removed]",
      "text/plain": [
       "<Figure size 1440x1332 with 1 Axes>"
      ]
     },
     "metadata": {
      "needs_background": "light"
     },
     "output_type": "display_data"
    }
   ],
   "source": [
    "##### Getting feature importance out of the Random Forest Regression:\n",
    "importances = rf_reg['regression'].feature_importances_\n",
    "importances = pd.DataFrame(importances,  index=numeric_features_list, columns=['importances'])\n",
    "importances.sort_values(by='importances', ascending=True).plot(kind='barh', figsize=(20,len(importances)/2));"
   ]
  },
  {
   "cell_type": "markdown",
   "metadata": {},
   "source": [
    "## 5.2 Regression analysis on all regions for DHS (n=755)"
   ]
  },
  {
   "cell_type": "code",
   "execution_count": 5,
   "metadata": {},
   "outputs": [
    {
     "data": {
      "text/html": [
       "<div>\n",
       "<style scoped>\n",
       "    .dataframe tbody tr th:only-of-type {\n",
       "        vertical-align: middle;\n",
       "    }\n",
       "\n",
       "    .dataframe tbody tr th {\n",
       "        vertical-align: top;\n",
       "    }\n",
       "\n",
       "    .dataframe thead th {\n",
       "        text-align: right;\n",
       "    }\n",
       "</style>\n",
       "<table border=\"1\" class=\"dataframe\">\n",
       "  <thead>\n",
       "    <tr style=\"text-align: right;\">\n",
       "      <th></th>\n",
       "      <th>id</th>\n",
       "      <th>adm</th>\n",
       "      <th>gbid</th>\n",
       "      <th>Name</th>\n",
       "      <th>Level</th>\n",
       "      <th>adm_int</th>\n",
       "      <th>asdf_id</th>\n",
       "      <th>feature_id</th>\n",
       "      <th>iso</th>\n",
       "      <th>gqid</th>\n",
       "      <th>avg_pre</th>\n",
       "      <th>avg_temp</th>\n",
       "      <th>dist_coast</th>\n",
       "      <th>pop_dens</th>\n",
       "      <th>conflict_deaths</th>\n",
       "      <th>nightlite</th>\n",
       "      <th>physical_elevation</th>\n",
       "      <th>gdp</th>\n",
       "      <th>access_cities</th>\n",
       "      <th>hv271</th>\n",
       "    </tr>\n",
       "  </thead>\n",
       "  <tbody>\n",
       "    <tr>\n",
       "      <th>0</th>\n",
       "      <td>0</td>\n",
       "      <td>ADM2</td>\n",
       "      <td>TZA_ADM2_1_3_3_0</td>\n",
       "      <td>Bagamoyo</td>\n",
       "      <td>ADM2</td>\n",
       "      <td>2</td>\n",
       "      <td>0</td>\n",
       "      <td>0</td>\n",
       "      <td>TZA</td>\n",
       "      <td>0</td>\n",
       "      <td>72.890916</td>\n",
       "      <td>26.408804</td>\n",
       "      <td>49414.959752</td>\n",
       "      <td>25.266386</td>\n",
       "      <td>0.0</td>\n",
       "      <td>0.192784</td>\n",
       "      <td>228.443757</td>\n",
       "      <td>0.032569</td>\n",
       "      <td>125.102745</td>\n",
       "      <td>74709.821705</td>\n",
       "    </tr>\n",
       "    <tr>\n",
       "      <th>1</th>\n",
       "      <td>1</td>\n",
       "      <td>ADM2</td>\n",
       "      <td>TZA_ADM2_1_3_3_1</td>\n",
       "      <td>Bariadi</td>\n",
       "      <td>ADM2</td>\n",
       "      <td>2</td>\n",
       "      <td>1</td>\n",
       "      <td>1</td>\n",
       "      <td>TZA</td>\n",
       "      <td>1</td>\n",
       "      <td>85.210798</td>\n",
       "      <td>22.709856</td>\n",
       "      <td>593879.251148</td>\n",
       "      <td>62.247063</td>\n",
       "      <td>0.0</td>\n",
       "      <td>0.666162</td>\n",
       "      <td>1397.736922</td>\n",
       "      <td>0.039866</td>\n",
       "      <td>208.188586</td>\n",
       "      <td>-32083.531250</td>\n",
       "    </tr>\n",
       "    <tr>\n",
       "      <th>2</th>\n",
       "      <td>2</td>\n",
       "      <td>ADM2</td>\n",
       "      <td>TZA_ADM2_1_3_3_2</td>\n",
       "      <td>Chunya</td>\n",
       "      <td>ADM2</td>\n",
       "      <td>2</td>\n",
       "      <td>2</td>\n",
       "      <td>2</td>\n",
       "      <td>TZA</td>\n",
       "      <td>2</td>\n",
       "      <td>68.710584</td>\n",
       "      <td>22.100773</td>\n",
       "      <td>653603.658882</td>\n",
       "      <td>10.791717</td>\n",
       "      <td>0.0</td>\n",
       "      <td>0.442000</td>\n",
       "      <td>1276.919637</td>\n",
       "      <td>0.006065</td>\n",
       "      <td>443.887008</td>\n",
       "      <td>-75436.727273</td>\n",
       "    </tr>\n",
       "    <tr>\n",
       "      <th>3</th>\n",
       "      <td>3</td>\n",
       "      <td>ADM2</td>\n",
       "      <td>TZA_ADM2_1_3_3_3</td>\n",
       "      <td>Geita</td>\n",
       "      <td>ADM2</td>\n",
       "      <td>2</td>\n",
       "      <td>3</td>\n",
       "      <td>3</td>\n",
       "      <td>TZA</td>\n",
       "      <td>3</td>\n",
       "      <td>102.266276</td>\n",
       "      <td>23.218936</td>\n",
       "      <td>806125.113951</td>\n",
       "      <td>155.718972</td>\n",
       "      <td>0.0</td>\n",
       "      <td>0.252875</td>\n",
       "      <td>1245.520747</td>\n",
       "      <td>0.139157</td>\n",
       "      <td>75.545742</td>\n",
       "      <td>-17588.789744</td>\n",
       "    </tr>\n",
       "    <tr>\n",
       "      <th>4</th>\n",
       "      <td>4</td>\n",
       "      <td>ADM2</td>\n",
       "      <td>TZA_ADM2_1_3_3_4</td>\n",
       "      <td>Iramba</td>\n",
       "      <td>ADM2</td>\n",
       "      <td>2</td>\n",
       "      <td>4</td>\n",
       "      <td>4</td>\n",
       "      <td>TZA</td>\n",
       "      <td>4</td>\n",
       "      <td>72.120892</td>\n",
       "      <td>23.206947</td>\n",
       "      <td>527565.541653</td>\n",
       "      <td>48.365822</td>\n",
       "      <td>0.0</td>\n",
       "      <td>0.165557</td>\n",
       "      <td>1260.742708</td>\n",
       "      <td>0.042734</td>\n",
       "      <td>108.290394</td>\n",
       "      <td>-54983.441860</td>\n",
       "    </tr>\n",
       "  </tbody>\n",
       "</table>\n",
       "</div>"
      ],
      "text/plain": [
       "   id   adm              gbid      Name Level  adm_int  asdf_id  feature_id  \\\n",
       "0   0  ADM2  TZA_ADM2_1_3_3_0  Bagamoyo  ADM2        2        0           0   \n",
       "1   1  ADM2  TZA_ADM2_1_3_3_1   Bariadi  ADM2        2        1           1   \n",
       "2   2  ADM2  TZA_ADM2_1_3_3_2    Chunya  ADM2        2        2           2   \n",
       "3   3  ADM2  TZA_ADM2_1_3_3_3     Geita  ADM2        2        3           3   \n",
       "4   4  ADM2  TZA_ADM2_1_3_3_4    Iramba  ADM2        2        4           4   \n",
       "\n",
       "   iso  gqid     avg_pre   avg_temp     dist_coast    pop_dens  \\\n",
       "0  TZA     0   72.890916  26.408804   49414.959752   25.266386   \n",
       "1  TZA     1   85.210798  22.709856  593879.251148   62.247063   \n",
       "2  TZA     2   68.710584  22.100773  653603.658882   10.791717   \n",
       "3  TZA     3  102.266276  23.218936  806125.113951  155.718972   \n",
       "4  TZA     4   72.120892  23.206947  527565.541653   48.365822   \n",
       "\n",
       "   conflict_deaths  nightlite  physical_elevation       gdp  access_cities  \\\n",
       "0              0.0   0.192784          228.443757  0.032569     125.102745   \n",
       "1              0.0   0.666162         1397.736922  0.039866     208.188586   \n",
       "2              0.0   0.442000         1276.919637  0.006065     443.887008   \n",
       "3              0.0   0.252875         1245.520747  0.139157      75.545742   \n",
       "4              0.0   0.165557         1260.742708  0.042734     108.290394   \n",
       "\n",
       "          hv271  \n",
       "0  74709.821705  \n",
       "1 -32083.531250  \n",
       "2 -75436.727273  \n",
       "3 -17588.789744  \n",
       "4 -54983.441860  "
      ]
     },
     "execution_count": 5,
     "metadata": {},
     "output_type": "execute_result"
    }
   ],
   "source": [
    "dhs_model = pd.read_csv('data/alt_reg.csv')\n",
    "dhs_model.head()"
   ]
  },
  {
   "cell_type": "code",
   "execution_count": 6,
   "metadata": {},
   "outputs": [
    {
     "data": {
      "text/plain": [
       "(755, 20)"
      ]
     },
     "execution_count": 6,
     "metadata": {},
     "output_type": "execute_result"
    }
   ],
   "source": [
    "dhs_model.shape"
   ]
  },
  {
   "cell_type": "code",
   "execution_count": null,
   "metadata": {},
   "outputs": [],
   "source": []
  }
 ],
 "metadata": {
  "kernelspec": {
   "display_name": "Python [conda env:nf] *",
   "language": "python",
   "name": "conda-env-nf-py"
  },
  "language_info": {
   "codemirror_mode": {
    "name": "ipython",
    "version": 3
   },
   "file_extension": ".py",
   "mimetype": "text/x-python",
   "name": "python",
   "nbconvert_exporter": "python",
   "pygments_lexer": "ipython3",
   "version": "3.6.10"
  }
 },
 "nbformat": 4,
 "nbformat_minor": 4
}
